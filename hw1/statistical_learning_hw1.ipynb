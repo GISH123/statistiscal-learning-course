{
 "cells": [
  {
   "cell_type": "markdown",
   "metadata": {},
   "source": [
    "# Q1.1 Construct a my_knn class"
   ]
  },
  {
   "cell_type": "code",
   "execution_count": null,
   "metadata": {},
   "outputs": [],
   "source": [
    "from tqdm import tqdm_notebook\n",
    "from scipy.spatial import distance\n",
    "from operator import itemgetter\n",
    "import numpy as np\n",
    "\n",
    "class myknn_regressor:\n",
    "\n",
    "    def __init__(self, k=3,mode= \"equal-weight\"):\n",
    "        \"\"\"\n",
    "        myknn constructor\n",
    "        \n",
    "        param k: total of neighbors, default 3\n",
    "        mode : default \"equal-weight\", compute average y based on k nearest neighbors\n",
    "        \"remove_outliers\", remove all the outliers before computing average y on the k nearest neighbors\n",
    "        \n",
    "        \"\"\"\n",
    "        self.k = int(k)\n",
    "        self._fit_data = []\n",
    "        self.mode = mode\n",
    "        if((k<10) & (self.mode == \"remove_outliers\")):\n",
    "            print(\"Not enabling remove-outliers if k<10, enforcing the mode to be 'equal-weight' \" )\n",
    "            self.mode = \"equal-weight\"\n",
    "        \n",
    "    def fit(self, x, y):\n",
    "        \"\"\"\n",
    "        train knn model with x\n",
    "        param x: \n",
    "        independent variables of data\n",
    "            \n",
    "        param y:\n",
    "        label of data\n",
    "            \n",
    "        \"\"\"\n",
    "        \n",
    "        assert len(x) == len(y)\n",
    "        \n",
    "        \n",
    "        self._fit_data = [(coordinates, label) for coordinates, label in zip(x, y)]        \n",
    "        \n",
    "        \n",
    "        \n",
    "    def outlier_treatment(self,datacolumn):\n",
    "        \"\"\"\n",
    "        helper function for detecting outliers in predict function\n",
    "        \n",
    "        param datacolumn: the data which we want to detect outlier\n",
    "        \"\"\"\n",
    "        sorted(datacolumn)\n",
    "        Q1,Q3 = np.percentile(datacolumn , [25,75])\n",
    "        IQR = Q3 - Q1\n",
    "        lower_range = Q1 - (1.5 * IQR)\n",
    "        upper_range = Q3 + (1.5 * IQR)\n",
    "        return lower_range,upper_range   \n",
    "        \n",
    "        \n",
    "    def predict(self, x):\n",
    "        \"\"\"\n",
    "        predict an array x based on fitted data\n",
    "        \n",
    "        param x : an array of test set's xs\n",
    "        \"\"\"\n",
    "\n",
    "        predicts = []\n",
    "        for coordinates in tqdm_notebook(x):\n",
    "            predict_point = coordinates\n",
    "\n",
    "            # euclidean distance from predict_point to all in self._fit_data\n",
    "            distances = np.empty([0, 2])\n",
    "            for data_point, data_label in self._fit_data:\n",
    "                # compute euclidean distance of predict and data xs and then append into distances\n",
    "                #  distances.append((distance.euclidean(predict_point, data_point),data_label))\n",
    "                distances = np.append(distances,[[distance.euclidean(predict_point, data_point),data_label]], axis=0)\n",
    "                    \n",
    "            # remove outlier case\n",
    "            if(self.mode == \"remove_outliers\"):\n",
    "                lower_range,upper_range = self.outlier_treatment( distances[:,1] )\n",
    "                distances = np.asarray([i for i in distances if lower_range <= i[1] <= upper_range])\n",
    "                \n",
    "            # get k points with least distances\n",
    "            distances = np.asarray(sorted(distances, key=itemgetter(0))[:self.k])\n",
    "            # computing average of k nearest neighbors y\n",
    "            average_y = np.average(distances[:,1])\n",
    "            predicts.append(average_y)\n",
    "        return predicts        \n",
    "        \n",
    "        "
   ]
  },
  {
   "cell_type": "code",
   "execution_count": null,
   "metadata": {},
   "outputs": [],
   "source": []
  },
  {
   "cell_type": "markdown",
   "metadata": {},
   "source": [
    "# Examples for debugging"
   ]
  },
  {
   "cell_type": "code",
   "execution_count": 2,
   "metadata": {},
   "outputs": [],
   "source": [
    "# # my example test set for debugging\n",
    "# X_train = [[5,50],[10,100],[15,150],[20,200],[25,250],[30,300],[35,350],[40,450]]\n",
    "# Y_train = [1,2,3,4,5,6,7,8]\n",
    "# X_test = [[12,120]]\n",
    "# #Y_test should be (1+2+3+4+5)/5 = 3 if k = 5\n"
   ]
  },
  {
   "cell_type": "code",
   "execution_count": 3,
   "metadata": {
    "scrolled": true
   },
   "outputs": [],
   "source": [
    "# myknn = myknn_regressor(5,\"remove_outliers\")\n",
    "# myknn.fit(X_train, Y_train)\n",
    "# ypred = myknn.predict(X_test)"
   ]
  },
  {
   "cell_type": "code",
   "execution_count": 4,
   "metadata": {},
   "outputs": [],
   "source": [
    "# ypred"
   ]
  },
  {
   "cell_type": "code",
   "execution_count": null,
   "metadata": {},
   "outputs": [],
   "source": []
  },
  {
   "cell_type": "code",
   "execution_count": 5,
   "metadata": {},
   "outputs": [],
   "source": [
    "# #outlier case\n",
    "# # my example test set for debugging\n",
    "# X_train = [[1,10],[5,50],[10,100],[15,150],[20,200],[25,250],[30,300],[35,350],[40,450]]\n",
    "# Y_train = [-999,1,2,3,4,5,6,7,8]\n",
    "# X_test = [[12,120]]\n",
    "# #Y_test should be (1+2+3+4+5+6+7+8)/8 = 4.5 if k = 20\n"
   ]
  },
  {
   "cell_type": "code",
   "execution_count": 6,
   "metadata": {
    "scrolled": false
   },
   "outputs": [],
   "source": [
    "# myknn = myknn_regressor(20, mode = \"remove_outliers\")\n",
    "# myknn.fit(X_train, Y_train)\n",
    "# ypred = myknn.predict(X_test)"
   ]
  },
  {
   "cell_type": "code",
   "execution_count": 7,
   "metadata": {},
   "outputs": [],
   "source": [
    "# ypred"
   ]
  },
  {
   "cell_type": "code",
   "execution_count": null,
   "metadata": {},
   "outputs": [],
   "source": []
  },
  {
   "cell_type": "code",
   "execution_count": null,
   "metadata": {},
   "outputs": [],
   "source": []
  },
  {
   "cell_type": "markdown",
   "metadata": {},
   "source": [
    "# Q1.2 Uses homework's dataset to predict"
   ]
  },
  {
   "cell_type": "code",
   "execution_count": 8,
   "metadata": {},
   "outputs": [],
   "source": [
    "import pickle"
   ]
  },
  {
   "cell_type": "code",
   "execution_count": 9,
   "metadata": {
    "scrolled": true
   },
   "outputs": [
    {
     "name": "stdout",
     "output_type": "stream",
     "text": [
      "{'X_train': array([[  53.39967,   56.67781,   55.63508, ...,    1.3159 ,    2.37448,\n",
      "           1.85999],\n",
      "       [  42.83464,  -33.90478,   38.97704, ...,    9.72827, -175.51446,\n",
      "         -15.8389 ],\n",
      "       [  49.88591,   23.30563,   54.79012, ...,    1.94152,  101.27241,\n",
      "           8.99355],\n",
      "       ...,\n",
      "       [  41.04397,  -96.30727,   56.8073 , ...,    3.60251,  -97.24809,\n",
      "          -5.80797],\n",
      "       [  42.8676 ,   43.36365,   29.17957, ...,   18.71014,  208.9029 ,\n",
      "         -11.08426],\n",
      "       [  36.57558,   29.8733 ,   -3.08101, ...,   21.0417 ,  106.60317,\n",
      "           3.44396]]), 'Y_train': array([1996., 2001., 2003., ..., 2009., 1982., 1981.]), 'X_test': array([[  38.51784,   55.38723,   10.31652, ...,    6.66624,  -73.75585,\n",
      "           9.47857],\n",
      "       [  44.7309 ,   46.25776,    8.55636, ...,    4.5564 ,   53.49956,\n",
      "           5.39116],\n",
      "       [  43.08912,   45.70197,   17.18467, ...,  -13.64909,   -7.42137,\n",
      "          -4.97266],\n",
      "       ...,\n",
      "       [  39.81814,   62.12221,    6.60567, ...,   28.27807,  -60.00203,\n",
      "         -11.19226],\n",
      "       [  50.25968,   43.10325,   24.72866, ...,    2.71602,  -44.27226,\n",
      "          -2.54583],\n",
      "       [  41.39744,   -8.88692,  -20.15887, ...,    8.63798, -120.34024,\n",
      "           3.65709]]), 'Y_test': array([1998., 1988., 2005., ..., 1990., 2005., 1989.])}\n"
     ]
    }
   ],
   "source": [
    "with open('msd_data1.pickle', 'rb') as file:\n",
    "    a_dict1 =pickle.load(file)\n",
    "\n",
    "print(a_dict1)"
   ]
  },
  {
   "cell_type": "code",
   "execution_count": 10,
   "metadata": {},
   "outputs": [],
   "source": [
    "from sklearn import preprocessing"
   ]
  },
  {
   "cell_type": "code",
   "execution_count": 11,
   "metadata": {},
   "outputs": [],
   "source": [
    "X_train = preprocessing.scale(a_dict1['X_train'])"
   ]
  },
  {
   "cell_type": "code",
   "execution_count": 12,
   "metadata": {},
   "outputs": [],
   "source": [
    "Y_train = a_dict1['Y_train']"
   ]
  },
  {
   "cell_type": "code",
   "execution_count": 13,
   "metadata": {},
   "outputs": [],
   "source": [
    "X_test = preprocessing.scale(a_dict1['X_test'])"
   ]
  },
  {
   "cell_type": "code",
   "execution_count": 14,
   "metadata": {},
   "outputs": [],
   "source": [
    "Y_test = a_dict1['Y_test']"
   ]
  },
  {
   "cell_type": "markdown",
   "metadata": {},
   "source": [
    "# k = 20, mode = equal-weight"
   ]
  },
  {
   "cell_type": "code",
   "execution_count": 15,
   "metadata": {},
   "outputs": [],
   "source": [
    "myknn = myknn_regressor(20)\n",
    "myknn.fit(X_train, Y_train)"
   ]
  },
  {
   "cell_type": "code",
   "execution_count": 16,
   "metadata": {},
   "outputs": [
    {
     "name": "stderr",
     "output_type": "stream",
     "text": [
      "D:\\Anaconda3\\lib\\site-packages\\ipykernel_launcher.py:64: TqdmDeprecationWarning: This function will be removed in tqdm==5.0.0\n",
      "Please use `tqdm.notebook.tqdm` instead of `tqdm.tqdm_notebook`\n"
     ]
    },
    {
     "data": {
      "application/vnd.jupyter.widget-view+json": {
       "model_id": "4637b6a451e64c2bb40aabc619c09ba2",
       "version_major": 2,
       "version_minor": 0
      },
      "text/plain": [
       "HBox(children=(IntProgress(value=0, max=3000), HTML(value='')))"
      ]
     },
     "metadata": {},
     "output_type": "display_data"
    },
    {
     "name": "stdout",
     "output_type": "stream",
     "text": [
      "\n"
     ]
    }
   ],
   "source": [
    "ypred = myknn.predict(X_test)"
   ]
  },
  {
   "cell_type": "code",
   "execution_count": 17,
   "metadata": {},
   "outputs": [
    {
     "data": {
      "text/plain": [
       "[1992.9,\n",
       " 1994.05,\n",
       " 2000.05,\n",
       " 1991.5,\n",
       " 1992.8,\n",
       " 1998.5,\n",
       " 1987.1,\n",
       " 1990.9,\n",
       " 2001.8,\n",
       " 2003.0,\n",
       " 2001.15,\n",
       " 1998.65,\n",
       " 1995.55,\n",
       " 1997.2,\n",
       " 1995.05,\n",
       " 1997.35,\n",
       " 1992.15,\n",
       " 1999.1,\n",
       " 2003.6,\n",
       " 1995.75]"
      ]
     },
     "execution_count": 17,
     "metadata": {},
     "output_type": "execute_result"
    }
   ],
   "source": [
    "ypred[:20]"
   ]
  },
  {
   "cell_type": "code",
   "execution_count": 18,
   "metadata": {},
   "outputs": [],
   "source": [
    "def rmse(predictions, targets):\n",
    "    return np.sqrt(((predictions - targets) ** 2).mean())"
   ]
  },
  {
   "cell_type": "code",
   "execution_count": 19,
   "metadata": {},
   "outputs": [],
   "source": [
    "rmse_val = rmse(ypred[0:20], Y_test[0:20])"
   ]
  },
  {
   "cell_type": "code",
   "execution_count": 20,
   "metadata": {
    "scrolled": true
   },
   "outputs": [
    {
     "data": {
      "text/plain": [
       "7.041599605203353"
      ]
     },
     "execution_count": 20,
     "metadata": {},
     "output_type": "execute_result"
    }
   ],
   "source": [
    "rmse_val"
   ]
  },
  {
   "cell_type": "code",
   "execution_count": null,
   "metadata": {},
   "outputs": [],
   "source": []
  },
  {
   "cell_type": "markdown",
   "metadata": {},
   "source": [
    "# Q1.3 mode = remove-outlier"
   ]
  },
  {
   "cell_type": "code",
   "execution_count": 21,
   "metadata": {},
   "outputs": [
    {
     "name": "stderr",
     "output_type": "stream",
     "text": [
      "D:\\Anaconda3\\lib\\site-packages\\ipykernel_launcher.py:64: TqdmDeprecationWarning: This function will be removed in tqdm==5.0.0\n",
      "Please use `tqdm.notebook.tqdm` instead of `tqdm.tqdm_notebook`\n"
     ]
    },
    {
     "data": {
      "application/vnd.jupyter.widget-view+json": {
       "model_id": "33c47780383b4730a60d9e5fece4b1c3",
       "version_major": 2,
       "version_minor": 0
      },
      "text/plain": [
       "HBox(children=(IntProgress(value=0, max=3000), HTML(value='')))"
      ]
     },
     "metadata": {},
     "output_type": "display_data"
    },
    {
     "name": "stdout",
     "output_type": "stream",
     "text": [
      "\n"
     ]
    }
   ],
   "source": [
    "myknn = myknn_regressor(20,mode = \"remove_outliers\")\n",
    "myknn.fit(X_train, Y_train)\n",
    "ypred_without_outliers = myknn.predict(X_test)"
   ]
  },
  {
   "cell_type": "code",
   "execution_count": 23,
   "metadata": {},
   "outputs": [],
   "source": [
    "rmse_val_without_outliers = rmse(ypred_without_outliers[0:20], Y_test[0:20])"
   ]
  },
  {
   "cell_type": "code",
   "execution_count": 24,
   "metadata": {},
   "outputs": [
    {
     "data": {
      "text/plain": [
       "5.433277095823453"
      ]
     },
     "execution_count": 24,
     "metadata": {},
     "output_type": "execute_result"
    }
   ],
   "source": [
    "rmse_val_without_outliers"
   ]
  },
  {
   "cell_type": "markdown",
   "metadata": {},
   "source": [
    "# Q2 Hyperparameter Tuning"
   ]
  },
  {
   "cell_type": "code",
   "execution_count": 25,
   "metadata": {},
   "outputs": [
    {
     "name": "stderr",
     "output_type": "stream",
     "text": [
      "D:\\Anaconda3\\lib\\site-packages\\ipykernel_launcher.py:4: TqdmDeprecationWarning: This function will be removed in tqdm==5.0.0\n",
      "Please use `tqdm.notebook.tqdm` instead of `tqdm.tqdm_notebook`\n",
      "  after removing the cwd from sys.path.\n"
     ]
    },
    {
     "data": {
      "application/vnd.jupyter.widget-view+json": {
       "model_id": "d2e21ef3c2e14621aef8926bbcd89c60",
       "version_major": 2,
       "version_minor": 0
      },
      "text/plain": [
       "HBox(children=(IntProgress(value=0, max=23), HTML(value='')))"
      ]
     },
     "metadata": {},
     "output_type": "display_data"
    },
    {
     "name": "stdout",
     "output_type": "stream",
     "text": [
      "\n"
     ]
    }
   ],
   "source": [
    "# first case sklearn knn with feature standardized\n",
    "from sklearn.neighbors import KNeighborsRegressor\n",
    "first_case_rmse = []\n",
    "for k in tqdm_notebook([1,2,3,4,5,10,15,20,25,30,35,40,45,50,55,60,80,100,120,140,160,180,200]):\n",
    "    neigh = KNeighborsRegressor(n_neighbors=k)\n",
    "    neigh.fit(X_train, Y_train) \n",
    "    ypred = neigh.predict(X_test)\n",
    "    first_case_rmse.append(rmse(ypred[0:20], Y_test[0:20]))"
   ]
  },
  {
   "cell_type": "code",
   "execution_count": null,
   "metadata": {},
   "outputs": [
    {
     "name": "stderr",
     "output_type": "stream",
     "text": [
      "D:\\Anaconda3\\lib\\site-packages\\ipykernel_launcher.py:3: TqdmDeprecationWarning: This function will be removed in tqdm==5.0.0\n",
      "Please use `tqdm.notebook.tqdm` instead of `tqdm.tqdm_notebook`\n",
      "  This is separate from the ipykernel package so we can avoid doing imports until\n"
     ]
    },
    {
     "data": {
      "application/vnd.jupyter.widget-view+json": {
       "model_id": "b1c190e1c87648b5b3e6431b94ea1851",
       "version_major": 2,
       "version_minor": 0
      },
      "text/plain": [
       "HBox(children=(IntProgress(value=0, max=23), HTML(value='')))"
      ]
     },
     "metadata": {},
     "output_type": "display_data"
    },
    {
     "name": "stdout",
     "output_type": "stream",
     "text": [
      "Not enabling remove-outliers if k<10, enforcing the mode to be 'equal-weight' \n"
     ]
    },
    {
     "name": "stderr",
     "output_type": "stream",
     "text": [
      "D:\\Anaconda3\\lib\\site-packages\\ipykernel_launcher.py:64: TqdmDeprecationWarning: This function will be removed in tqdm==5.0.0\n",
      "Please use `tqdm.notebook.tqdm` instead of `tqdm.tqdm_notebook`\n"
     ]
    },
    {
     "data": {
      "application/vnd.jupyter.widget-view+json": {
       "model_id": "6b702ad0d2264839a51174543c82ac44",
       "version_major": 2,
       "version_minor": 0
      },
      "text/plain": [
       "HBox(children=(IntProgress(value=0, max=3000), HTML(value='')))"
      ]
     },
     "metadata": {},
     "output_type": "display_data"
    },
    {
     "name": "stdout",
     "output_type": "stream",
     "text": [
      "\n",
      "Not enabling remove-outliers if k<10, enforcing the mode to be 'equal-weight' \n"
     ]
    },
    {
     "data": {
      "application/vnd.jupyter.widget-view+json": {
       "model_id": "68ec36a515234695850313f7f3e48d85",
       "version_major": 2,
       "version_minor": 0
      },
      "text/plain": [
       "HBox(children=(IntProgress(value=0, max=3000), HTML(value='')))"
      ]
     },
     "metadata": {},
     "output_type": "display_data"
    },
    {
     "name": "stdout",
     "output_type": "stream",
     "text": [
      "\n",
      "Not enabling remove-outliers if k<10, enforcing the mode to be 'equal-weight' \n"
     ]
    },
    {
     "data": {
      "application/vnd.jupyter.widget-view+json": {
       "model_id": "c506d5629534412b82f87f764949f758",
       "version_major": 2,
       "version_minor": 0
      },
      "text/plain": [
       "HBox(children=(IntProgress(value=0, max=3000), HTML(value='')))"
      ]
     },
     "metadata": {},
     "output_type": "display_data"
    },
    {
     "name": "stdout",
     "output_type": "stream",
     "text": [
      "\n",
      "Not enabling remove-outliers if k<10, enforcing the mode to be 'equal-weight' \n"
     ]
    },
    {
     "data": {
      "application/vnd.jupyter.widget-view+json": {
       "model_id": "aa8550c101f544e79bb06b40082358b2",
       "version_major": 2,
       "version_minor": 0
      },
      "text/plain": [
       "HBox(children=(IntProgress(value=0, max=3000), HTML(value='')))"
      ]
     },
     "metadata": {},
     "output_type": "display_data"
    },
    {
     "name": "stdout",
     "output_type": "stream",
     "text": [
      "\n",
      "Not enabling remove-outliers if k<10, enforcing the mode to be 'equal-weight' \n"
     ]
    },
    {
     "data": {
      "application/vnd.jupyter.widget-view+json": {
       "model_id": "9b64557201114689bfea4d0dbb706724",
       "version_major": 2,
       "version_minor": 0
      },
      "text/plain": [
       "HBox(children=(IntProgress(value=0, max=3000), HTML(value='')))"
      ]
     },
     "metadata": {},
     "output_type": "display_data"
    },
    {
     "name": "stdout",
     "output_type": "stream",
     "text": [
      "\n"
     ]
    },
    {
     "data": {
      "application/vnd.jupyter.widget-view+json": {
       "model_id": "3ba755b02ad044f392752d9837800109",
       "version_major": 2,
       "version_minor": 0
      },
      "text/plain": [
       "HBox(children=(IntProgress(value=0, max=3000), HTML(value='')))"
      ]
     },
     "metadata": {},
     "output_type": "display_data"
    },
    {
     "name": "stdout",
     "output_type": "stream",
     "text": [
      "\n"
     ]
    },
    {
     "data": {
      "application/vnd.jupyter.widget-view+json": {
       "model_id": "cd30519360d34229bc4aab3f458b143a",
       "version_major": 2,
       "version_minor": 0
      },
      "text/plain": [
       "HBox(children=(IntProgress(value=0, max=3000), HTML(value='')))"
      ]
     },
     "metadata": {},
     "output_type": "display_data"
    },
    {
     "name": "stdout",
     "output_type": "stream",
     "text": [
      "\n"
     ]
    },
    {
     "data": {
      "application/vnd.jupyter.widget-view+json": {
       "model_id": "0b27388c40634300a64726aefe49b555",
       "version_major": 2,
       "version_minor": 0
      },
      "text/plain": [
       "HBox(children=(IntProgress(value=0, max=3000), HTML(value='')))"
      ]
     },
     "metadata": {},
     "output_type": "display_data"
    },
    {
     "name": "stdout",
     "output_type": "stream",
     "text": [
      "\n"
     ]
    },
    {
     "data": {
      "application/vnd.jupyter.widget-view+json": {
       "model_id": "4109279c45a8468999bc632ecf612522",
       "version_major": 2,
       "version_minor": 0
      },
      "text/plain": [
       "HBox(children=(IntProgress(value=0, max=3000), HTML(value='')))"
      ]
     },
     "metadata": {},
     "output_type": "display_data"
    },
    {
     "name": "stdout",
     "output_type": "stream",
     "text": [
      "\n"
     ]
    },
    {
     "data": {
      "application/vnd.jupyter.widget-view+json": {
       "model_id": "6c317efe4df9478985e58f10b80b86fb",
       "version_major": 2,
       "version_minor": 0
      },
      "text/plain": [
       "HBox(children=(IntProgress(value=0, max=3000), HTML(value='')))"
      ]
     },
     "metadata": {},
     "output_type": "display_data"
    },
    {
     "name": "stdout",
     "output_type": "stream",
     "text": [
      "\n"
     ]
    },
    {
     "data": {
      "application/vnd.jupyter.widget-view+json": {
       "model_id": "b1a3421dcda94da6a396c93f31bf6e25",
       "version_major": 2,
       "version_minor": 0
      },
      "text/plain": [
       "HBox(children=(IntProgress(value=0, max=3000), HTML(value='')))"
      ]
     },
     "metadata": {},
     "output_type": "display_data"
    },
    {
     "name": "stdout",
     "output_type": "stream",
     "text": [
      "\n"
     ]
    },
    {
     "data": {
      "application/vnd.jupyter.widget-view+json": {
       "model_id": "fc7311dce39a4a6a85b4ab56ff0bb63c",
       "version_major": 2,
       "version_minor": 0
      },
      "text/plain": [
       "HBox(children=(IntProgress(value=0, max=3000), HTML(value='')))"
      ]
     },
     "metadata": {},
     "output_type": "display_data"
    },
    {
     "name": "stdout",
     "output_type": "stream",
     "text": [
      "\n"
     ]
    },
    {
     "data": {
      "application/vnd.jupyter.widget-view+json": {
       "model_id": "56d4655c800e42868deb15fcf7ccce63",
       "version_major": 2,
       "version_minor": 0
      },
      "text/plain": [
       "HBox(children=(IntProgress(value=0, max=3000), HTML(value='')))"
      ]
     },
     "metadata": {},
     "output_type": "display_data"
    },
    {
     "name": "stdout",
     "output_type": "stream",
     "text": [
      "\n"
     ]
    },
    {
     "data": {
      "application/vnd.jupyter.widget-view+json": {
       "model_id": "06231e26df76494daf5a7354af0ff8ae",
       "version_major": 2,
       "version_minor": 0
      },
      "text/plain": [
       "HBox(children=(IntProgress(value=0, max=3000), HTML(value='')))"
      ]
     },
     "metadata": {},
     "output_type": "display_data"
    },
    {
     "name": "stdout",
     "output_type": "stream",
     "text": [
      "\n"
     ]
    },
    {
     "data": {
      "application/vnd.jupyter.widget-view+json": {
       "model_id": "fee1198b4ed14bbe9f2bdc6c6dac2eaa",
       "version_major": 2,
       "version_minor": 0
      },
      "text/plain": [
       "HBox(children=(IntProgress(value=0, max=3000), HTML(value='')))"
      ]
     },
     "metadata": {},
     "output_type": "display_data"
    },
    {
     "name": "stdout",
     "output_type": "stream",
     "text": [
      "\n"
     ]
    },
    {
     "data": {
      "application/vnd.jupyter.widget-view+json": {
       "model_id": "9bda74a4421a49e5805a9a3fc3d01151",
       "version_major": 2,
       "version_minor": 0
      },
      "text/plain": [
       "HBox(children=(IntProgress(value=0, max=3000), HTML(value='')))"
      ]
     },
     "metadata": {},
     "output_type": "display_data"
    },
    {
     "name": "stdout",
     "output_type": "stream",
     "text": [
      "\n"
     ]
    },
    {
     "data": {
      "application/vnd.jupyter.widget-view+json": {
       "model_id": "f3f8ae46f31549668c2a89c39c2e8ec7",
       "version_major": 2,
       "version_minor": 0
      },
      "text/plain": [
       "HBox(children=(IntProgress(value=0, max=3000), HTML(value='')))"
      ]
     },
     "metadata": {},
     "output_type": "display_data"
    },
    {
     "name": "stdout",
     "output_type": "stream",
     "text": [
      "\n"
     ]
    },
    {
     "data": {
      "application/vnd.jupyter.widget-view+json": {
       "model_id": "70d050e4a2484644a5305e43b1894f9f",
       "version_major": 2,
       "version_minor": 0
      },
      "text/plain": [
       "HBox(children=(IntProgress(value=0, max=3000), HTML(value='')))"
      ]
     },
     "metadata": {},
     "output_type": "display_data"
    }
   ],
   "source": [
    "#third case myknn\n",
    "third_case_rmse = []\n",
    "for k in tqdm_notebook([1,2,3,4,5,10,15,20,25,30,35,40,45,50,55,60,80,100,120,140,160,180,200]):\n",
    "    myknn = myknn_regressor(k,mode = \"remove_outliers\")\n",
    "    myknn.fit(X_train, Y_train)\n",
    "    ypred_without_outliers = myknn.predict(X_test)\n",
    "    third_case_rmse.append(rmse(ypred_without_outliers[0:20], Y_test[0:20]))"
   ]
  },
  {
   "cell_type": "code",
   "execution_count": null,
   "metadata": {},
   "outputs": [],
   "source": []
  },
  {
   "cell_type": "code",
   "execution_count": null,
   "metadata": {},
   "outputs": [],
   "source": [
    "# second case sklearn without feature standardized"
   ]
  },
  {
   "cell_type": "code",
   "execution_count": 32,
   "metadata": {},
   "outputs": [],
   "source": [
    "X_train_two = a_dict1['X_train']\n",
    "X_test_two = a_dict1['X_test']"
   ]
  },
  {
   "cell_type": "code",
   "execution_count": 33,
   "metadata": {
    "scrolled": true
   },
   "outputs": [
    {
     "name": "stderr",
     "output_type": "stream",
     "text": [
      "D:\\Anaconda3\\lib\\site-packages\\ipykernel_launcher.py:2: TqdmDeprecationWarning: This function will be removed in tqdm==5.0.0\n",
      "Please use `tqdm.notebook.tqdm` instead of `tqdm.tqdm_notebook`\n",
      "  \n"
     ]
    },
    {
     "data": {
      "application/vnd.jupyter.widget-view+json": {
       "model_id": "4a9edf2d2ae74aa78e18461b2fde8eaf",
       "version_major": 2,
       "version_minor": 0
      },
      "text/plain": [
       "HBox(children=(IntProgress(value=0, max=23), HTML(value='')))"
      ]
     },
     "metadata": {},
     "output_type": "display_data"
    },
    {
     "name": "stdout",
     "output_type": "stream",
     "text": [
      "\n"
     ]
    }
   ],
   "source": [
    "second_case_rmse = []\n",
    "for k in tqdm_notebook([1,2,3,4,5,10,15,20,25,30,35,40,45,50,55,60,80,100,120,140,160,180,200]):\n",
    "    neigh_two = KNeighborsRegressor(n_neighbors=k)\n",
    "    neigh_two.fit(X_train_two, Y_train) \n",
    "    ypred = neigh_two.predict(X_test_two)\n",
    "    second_case_rmse.append(rmse(ypred[0:20], Y_test[0:20]))"
   ]
  },
  {
   "cell_type": "markdown",
   "metadata": {},
   "source": [
    "# plot a curve that shows the relations between  k  (x-axis) and RMSE (y-axis)"
   ]
  },
  {
   "cell_type": "code",
   "execution_count": 44,
   "metadata": {},
   "outputs": [
    {
     "data": {
      "text/plain": [
       "[<matplotlib.lines.Line2D at 0x1b57ce1fa58>]"
      ]
     },
     "execution_count": 44,
     "metadata": {},
     "output_type": "execute_result"
    },
    {
     "data": {
      "image/png": "[encoded data removed]",
      "text/plain": [
       "<Figure size 576x288 with 1 Axes>"
      ]
     },
     "metadata": {
      "needs_background": "light"
     },
     "output_type": "display_data"
    }
   ],
   "source": [
    "import matplotlib.pyplot as plt\n",
    "x_axis = [1,2,3,4,5,10,15,20,25,30,35,40,45,50,55,60,80,100,120,140,160,180,200]\n",
    "plt.figure(figsize=(8,4))\n",
    "plt.plot(x_axis,first_case_rmse,label=\"first case\",color=\"blue\")\n",
    "plt.plot(x_axis,second_case_rmse,label=\"second case\",color=\"red\")\n",
    "plt.plot(x_axis,third_case_rmse,label=\"third case\",color=\"green\")"
   ]
  },
  {
   "cell_type": "markdown",
   "metadata": {},
   "source": [
    "# It seems like the removing the outlier first greatly improves the model(green line), and around k = 20 is the best hyperparameter."
   ]
  },
  {
   "cell_type": "code",
   "execution_count": null,
   "metadata": {},
   "outputs": [],
   "source": []
  }
 ],
 "metadata": {
  "kernelspec": {
   "display_name": "Python 3",
   "language": "python",
   "name": "python3"
  },
  "language_info": {
   "codemirror_mode": {
    "name": "ipython",
    "version": 3
   },
   "file_extension": ".py",
   "mimetype": "text/x-python",
   "name": "python",
   "nbconvert_exporter": "python",
   "pygments_lexer": "ipython3",
   "version": "3.7.3"
  }
 },
 "nbformat": 4,
 "nbformat_minor": 2
}

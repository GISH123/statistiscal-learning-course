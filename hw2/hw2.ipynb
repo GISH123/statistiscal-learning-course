{
 "cells": [
  {
   "cell_type": "markdown",
   "metadata": {},
   "source": [
    "# Q1\n",
    "I'm going to do some simple EDA for this question"
   ]
  },
  {
   "cell_type": "code",
   "execution_count": 281,
   "metadata": {},
   "outputs": [],
   "source": [
    "import pandas as pd\n",
    "train = pd.read_csv('data/df1_train.csv')  \n",
    "test = pd.read_csv('data/df1_test1.csv')\n",
    "testlabel = pd.read_csv('data/df1_test1y.csv')"
   ]
  },
  {
   "cell_type": "code",
   "execution_count": 3,
   "metadata": {},
   "outputs": [
    {
     "data": {
      "text/html": [
       "<div>\n",
       "<style scoped>\n",
       "    .dataframe tbody tr th:only-of-type {\n",
       "        vertical-align: middle;\n",
       "    }\n",
       "\n",
       "    .dataframe tbody tr th {\n",
       "        vertical-align: top;\n",
       "    }\n",
       "\n",
       "    .dataframe thead th {\n",
       "        text-align: right;\n",
       "    }\n",
       "</style>\n",
       "<table border=\"1\" class=\"dataframe\">\n",
       "  <thead>\n",
       "    <tr style=\"text-align: right;\">\n",
       "      <th></th>\n",
       "      <th>life_post_consumer</th>\n",
       "      <th>comp_page_like</th>\n",
       "      <th>Paid</th>\n",
       "      <th>life_post_reach</th>\n",
       "      <th>life_post_impression_liked</th>\n",
       "      <th>life_post_reach_liked</th>\n",
       "      <th>comment</th>\n",
       "      <th>like</th>\n",
       "      <th>share</th>\n",
       "      <th>type_link</th>\n",
       "      <th>...</th>\n",
       "      <th>hour5</th>\n",
       "      <th>hour6</th>\n",
       "      <th>hour7</th>\n",
       "      <th>hour8</th>\n",
       "      <th>hour9</th>\n",
       "      <th>hour10</th>\n",
       "      <th>hour11</th>\n",
       "      <th>hour12</th>\n",
       "      <th>hour13</th>\n",
       "      <th>hour14</th>\n",
       "    </tr>\n",
       "  </thead>\n",
       "  <tbody>\n",
       "    <tr>\n",
       "      <td>0</td>\n",
       "      <td>523</td>\n",
       "      <td>125612</td>\n",
       "      <td>0</td>\n",
       "      <td>2763</td>\n",
       "      <td>3519</td>\n",
       "      <td>2124</td>\n",
       "      <td>0</td>\n",
       "      <td>62</td>\n",
       "      <td>10</td>\n",
       "      <td>0</td>\n",
       "      <td>...</td>\n",
       "      <td>0</td>\n",
       "      <td>0</td>\n",
       "      <td>0</td>\n",
       "      <td>0</td>\n",
       "      <td>0</td>\n",
       "      <td>0</td>\n",
       "      <td>0</td>\n",
       "      <td>0</td>\n",
       "      <td>0</td>\n",
       "      <td>0</td>\n",
       "    </tr>\n",
       "    <tr>\n",
       "      <td>1</td>\n",
       "      <td>408</td>\n",
       "      <td>135700</td>\n",
       "      <td>0</td>\n",
       "      <td>3756</td>\n",
       "      <td>4935</td>\n",
       "      <td>2556</td>\n",
       "      <td>16</td>\n",
       "      <td>117</td>\n",
       "      <td>30</td>\n",
       "      <td>0</td>\n",
       "      <td>...</td>\n",
       "      <td>0</td>\n",
       "      <td>0</td>\n",
       "      <td>0</td>\n",
       "      <td>0</td>\n",
       "      <td>0</td>\n",
       "      <td>0</td>\n",
       "      <td>1</td>\n",
       "      <td>0</td>\n",
       "      <td>0</td>\n",
       "      <td>0</td>\n",
       "    </tr>\n",
       "    <tr>\n",
       "      <td>2</td>\n",
       "      <td>37</td>\n",
       "      <td>137020</td>\n",
       "      <td>1</td>\n",
       "      <td>1357</td>\n",
       "      <td>2154</td>\n",
       "      <td>1120</td>\n",
       "      <td>0</td>\n",
       "      <td>0</td>\n",
       "      <td>0</td>\n",
       "      <td>0</td>\n",
       "      <td>...</td>\n",
       "      <td>0</td>\n",
       "      <td>0</td>\n",
       "      <td>0</td>\n",
       "      <td>0</td>\n",
       "      <td>1</td>\n",
       "      <td>0</td>\n",
       "      <td>0</td>\n",
       "      <td>0</td>\n",
       "      <td>0</td>\n",
       "      <td>0</td>\n",
       "    </tr>\n",
       "    <tr>\n",
       "      <td>3</td>\n",
       "      <td>808</td>\n",
       "      <td>137893</td>\n",
       "      <td>1</td>\n",
       "      <td>37376</td>\n",
       "      <td>22100</td>\n",
       "      <td>10880</td>\n",
       "      <td>20</td>\n",
       "      <td>411</td>\n",
       "      <td>74</td>\n",
       "      <td>0</td>\n",
       "      <td>...</td>\n",
       "      <td>0</td>\n",
       "      <td>0</td>\n",
       "      <td>0</td>\n",
       "      <td>0</td>\n",
       "      <td>0</td>\n",
       "      <td>0</td>\n",
       "      <td>0</td>\n",
       "      <td>0</td>\n",
       "      <td>0</td>\n",
       "      <td>0</td>\n",
       "    </tr>\n",
       "    <tr>\n",
       "      <td>4</td>\n",
       "      <td>359</td>\n",
       "      <td>133594</td>\n",
       "      <td>0</td>\n",
       "      <td>1809</td>\n",
       "      <td>2541</td>\n",
       "      <td>1435</td>\n",
       "      <td>2</td>\n",
       "      <td>64</td>\n",
       "      <td>7</td>\n",
       "      <td>0</td>\n",
       "      <td>...</td>\n",
       "      <td>0</td>\n",
       "      <td>0</td>\n",
       "      <td>0</td>\n",
       "      <td>1</td>\n",
       "      <td>0</td>\n",
       "      <td>0</td>\n",
       "      <td>0</td>\n",
       "      <td>0</td>\n",
       "      <td>0</td>\n",
       "      <td>0</td>\n",
       "    </tr>\n",
       "    <tr>\n",
       "      <td>...</td>\n",
       "      <td>...</td>\n",
       "      <td>...</td>\n",
       "      <td>...</td>\n",
       "      <td>...</td>\n",
       "      <td>...</td>\n",
       "      <td>...</td>\n",
       "      <td>...</td>\n",
       "      <td>...</td>\n",
       "      <td>...</td>\n",
       "      <td>...</td>\n",
       "      <td>...</td>\n",
       "      <td>...</td>\n",
       "      <td>...</td>\n",
       "      <td>...</td>\n",
       "      <td>...</td>\n",
       "      <td>...</td>\n",
       "      <td>...</td>\n",
       "      <td>...</td>\n",
       "      <td>...</td>\n",
       "      <td>...</td>\n",
       "      <td>...</td>\n",
       "    </tr>\n",
       "    <tr>\n",
       "      <td>395</td>\n",
       "      <td>453</td>\n",
       "      <td>107907</td>\n",
       "      <td>0</td>\n",
       "      <td>4390</td>\n",
       "      <td>4607</td>\n",
       "      <td>2862</td>\n",
       "      <td>1</td>\n",
       "      <td>63</td>\n",
       "      <td>26</td>\n",
       "      <td>0</td>\n",
       "      <td>...</td>\n",
       "      <td>0</td>\n",
       "      <td>0</td>\n",
       "      <td>0</td>\n",
       "      <td>0</td>\n",
       "      <td>0</td>\n",
       "      <td>1</td>\n",
       "      <td>0</td>\n",
       "      <td>0</td>\n",
       "      <td>0</td>\n",
       "      <td>0</td>\n",
       "    </tr>\n",
       "    <tr>\n",
       "      <td>396</td>\n",
       "      <td>1038</td>\n",
       "      <td>126141</td>\n",
       "      <td>0</td>\n",
       "      <td>20896</td>\n",
       "      <td>19738</td>\n",
       "      <td>13656</td>\n",
       "      <td>103</td>\n",
       "      <td>469</td>\n",
       "      <td>33</td>\n",
       "      <td>0</td>\n",
       "      <td>...</td>\n",
       "      <td>0</td>\n",
       "      <td>0</td>\n",
       "      <td>0</td>\n",
       "      <td>0</td>\n",
       "      <td>0</td>\n",
       "      <td>0</td>\n",
       "      <td>0</td>\n",
       "      <td>1</td>\n",
       "      <td>0</td>\n",
       "      <td>0</td>\n",
       "    </tr>\n",
       "    <tr>\n",
       "      <td>397</td>\n",
       "      <td>3682</td>\n",
       "      <td>126424</td>\n",
       "      <td>0</td>\n",
       "      <td>18320</td>\n",
       "      <td>25584</td>\n",
       "      <td>14920</td>\n",
       "      <td>36</td>\n",
       "      <td>98</td>\n",
       "      <td>14</td>\n",
       "      <td>0</td>\n",
       "      <td>...</td>\n",
       "      <td>0</td>\n",
       "      <td>0</td>\n",
       "      <td>0</td>\n",
       "      <td>0</td>\n",
       "      <td>0</td>\n",
       "      <td>0</td>\n",
       "      <td>0</td>\n",
       "      <td>0</td>\n",
       "      <td>1</td>\n",
       "      <td>0</td>\n",
       "    </tr>\n",
       "    <tr>\n",
       "      <td>398</td>\n",
       "      <td>1330</td>\n",
       "      <td>129600</td>\n",
       "      <td>1</td>\n",
       "      <td>40336</td>\n",
       "      <td>27771</td>\n",
       "      <td>14848</td>\n",
       "      <td>4</td>\n",
       "      <td>104</td>\n",
       "      <td>10</td>\n",
       "      <td>0</td>\n",
       "      <td>...</td>\n",
       "      <td>0</td>\n",
       "      <td>0</td>\n",
       "      <td>0</td>\n",
       "      <td>0</td>\n",
       "      <td>0</td>\n",
       "      <td>0</td>\n",
       "      <td>0</td>\n",
       "      <td>0</td>\n",
       "      <td>1</td>\n",
       "      <td>0</td>\n",
       "    </tr>\n",
       "    <tr>\n",
       "      <td>399</td>\n",
       "      <td>356</td>\n",
       "      <td>117764</td>\n",
       "      <td>0</td>\n",
       "      <td>3144</td>\n",
       "      <td>3586</td>\n",
       "      <td>2148</td>\n",
       "      <td>1</td>\n",
       "      <td>58</td>\n",
       "      <td>13</td>\n",
       "      <td>0</td>\n",
       "      <td>...</td>\n",
       "      <td>0</td>\n",
       "      <td>0</td>\n",
       "      <td>0</td>\n",
       "      <td>0</td>\n",
       "      <td>0</td>\n",
       "      <td>0</td>\n",
       "      <td>0</td>\n",
       "      <td>0</td>\n",
       "      <td>1</td>\n",
       "      <td>0</td>\n",
       "    </tr>\n",
       "  </tbody>\n",
       "</table>\n",
       "<p>400 rows × 44 columns</p>\n",
       "</div>"
      ],
      "text/plain": [
       "     life_post_consumer  comp_page_like  Paid  life_post_reach  \\\n",
       "0                   523          125612     0             2763   \n",
       "1                   408          135700     0             3756   \n",
       "2                    37          137020     1             1357   \n",
       "3                   808          137893     1            37376   \n",
       "4                   359          133594     0             1809   \n",
       "..                  ...             ...   ...              ...   \n",
       "395                 453          107907     0             4390   \n",
       "396                1038          126141     0            20896   \n",
       "397                3682          126424     0            18320   \n",
       "398                1330          129600     1            40336   \n",
       "399                 356          117764     0             3144   \n",
       "\n",
       "     life_post_impression_liked  life_post_reach_liked  comment  like  share  \\\n",
       "0                          3519                   2124        0    62     10   \n",
       "1                          4935                   2556       16   117     30   \n",
       "2                          2154                   1120        0     0      0   \n",
       "3                         22100                  10880       20   411     74   \n",
       "4                          2541                   1435        2    64      7   \n",
       "..                          ...                    ...      ...   ...    ...   \n",
       "395                        4607                   2862        1    63     26   \n",
       "396                       19738                  13656      103   469     33   \n",
       "397                       25584                  14920       36    98     14   \n",
       "398                       27771                  14848        4   104     10   \n",
       "399                        3586                   2148        1    58     13   \n",
       "\n",
       "     type_link  ...  hour5  hour6  hour7  hour8  hour9  hour10  hour11  \\\n",
       "0            0  ...      0      0      0      0      0       0       0   \n",
       "1            0  ...      0      0      0      0      0       0       1   \n",
       "2            0  ...      0      0      0      0      1       0       0   \n",
       "3            0  ...      0      0      0      0      0       0       0   \n",
       "4            0  ...      0      0      0      1      0       0       0   \n",
       "..         ...  ...    ...    ...    ...    ...    ...     ...     ...   \n",
       "395          0  ...      0      0      0      0      0       1       0   \n",
       "396          0  ...      0      0      0      0      0       0       0   \n",
       "397          0  ...      0      0      0      0      0       0       0   \n",
       "398          0  ...      0      0      0      0      0       0       0   \n",
       "399          0  ...      0      0      0      0      0       0       0   \n",
       "\n",
       "     hour12  hour13  hour14  \n",
       "0         0       0       0  \n",
       "1         0       0       0  \n",
       "2         0       0       0  \n",
       "3         0       0       0  \n",
       "4         0       0       0  \n",
       "..      ...     ...     ...  \n",
       "395       0       0       0  \n",
       "396       1       0       0  \n",
       "397       0       1       0  \n",
       "398       0       1       0  \n",
       "399       0       1       0  \n",
       "\n",
       "[400 rows x 44 columns]"
      ]
     },
     "execution_count": 3,
     "metadata": {},
     "output_type": "execute_result"
    }
   ],
   "source": [
    "train"
   ]
  },
  {
   "cell_type": "code",
   "execution_count": null,
   "metadata": {},
   "outputs": [],
   "source": [
    "# based on description , columns before  \"share\"(included), excluding \"Paid\" are nmumercial variables"
   ]
  },
  {
   "cell_type": "code",
   "execution_count": null,
   "metadata": {},
   "outputs": [],
   "source": [
    "# now lets take a look at non-numercial variables"
   ]
  },
  {
   "cell_type": "code",
   "execution_count": 27,
   "metadata": {},
   "outputs": [
    {
     "data": {
      "text/plain": [
       "0    385\n",
       "1     15\n",
       "Name: type_link, dtype: int64"
      ]
     },
     "execution_count": 27,
     "metadata": {},
     "output_type": "execute_result"
    }
   ],
   "source": [
    "train['type_link'].value_counts()"
   ]
  },
  {
   "cell_type": "code",
   "execution_count": 28,
   "metadata": {},
   "outputs": [
    {
     "data": {
      "text/plain": [
       "0    367\n",
       "1     33\n",
       "Name: type_status, dtype: int64"
      ]
     },
     "execution_count": 28,
     "metadata": {},
     "output_type": "execute_result"
    }
   ],
   "source": [
    "train['type_status'].value_counts()"
   ]
  },
  {
   "cell_type": "code",
   "execution_count": 32,
   "metadata": {},
   "outputs": [
    {
     "data": {
      "text/plain": [
       "0    393\n",
       "1      7\n",
       "Name: type_video, dtype: int64"
      ]
     },
     "execution_count": 32,
     "metadata": {},
     "output_type": "execute_result"
    }
   ],
   "source": [
    "train['type_video'].value_counts()"
   ]
  },
  {
   "cell_type": "code",
   "execution_count": 29,
   "metadata": {},
   "outputs": [],
   "source": [
    "# Paid, type_link, type_status,type_video are binary"
   ]
  },
  {
   "cell_type": "code",
   "execution_count": null,
   "metadata": {},
   "outputs": [],
   "source": [
    "# cat2, cat3 combined represents 4 types of data"
   ]
  },
  {
   "cell_type": "code",
   "execution_count": null,
   "metadata": {},
   "outputs": [],
   "source": [
    "# month 1 to 11, dow1 to dow6, hour2 to hour 14 are dummy encoding of the month,day and hour"
   ]
  },
  {
   "cell_type": "code",
   "execution_count": null,
   "metadata": {},
   "outputs": [],
   "source": []
  },
  {
   "cell_type": "code",
   "execution_count": 12,
   "metadata": {
    "scrolled": true
   },
   "outputs": [
    {
     "data": {
      "text/plain": [
       "life_post_consumer            False\n",
       "comp_page_like                False\n",
       "Paid                          False\n",
       "life_post_reach               False\n",
       "life_post_impression_liked    False\n",
       "life_post_reach_liked         False\n",
       "comment                       False\n",
       "like                          False\n",
       "share                         False\n",
       "type_link                     False\n",
       "type_status                   False\n",
       "type_video                    False\n",
       "cat2                          False\n",
       "cat3                          False\n",
       "month1                        False\n",
       "month2                        False\n",
       "month3                        False\n",
       "month4                        False\n",
       "month5                        False\n",
       "month6                        False\n",
       "month7                        False\n",
       "month8                        False\n",
       "month9                        False\n",
       "month10                       False\n",
       "month11                       False\n",
       "dow1                          False\n",
       "dow2                          False\n",
       "dow3                          False\n",
       "dow4                          False\n",
       "dow5                          False\n",
       "dow6                          False\n",
       "hour2                         False\n",
       "hour3                         False\n",
       "hour4                         False\n",
       "hour5                         False\n",
       "hour6                         False\n",
       "hour7                         False\n",
       "hour8                         False\n",
       "hour9                         False\n",
       "hour10                        False\n",
       "hour11                        False\n",
       "hour12                        False\n",
       "hour13                        False\n",
       "hour14                        False\n",
       "dtype: bool"
      ]
     },
     "execution_count": 12,
     "metadata": {},
     "output_type": "execute_result"
    }
   ],
   "source": [
    "# check if there is any missing value in the train data\n",
    "train.isna().any()\n",
    "# there is none"
   ]
  },
  {
   "cell_type": "code",
   "execution_count": 30,
   "metadata": {
    "scrolled": true
   },
   "outputs": [
    {
     "data": {
      "text/plain": [
       "comp_page_like                False\n",
       "Paid                          False\n",
       "life_post_reach               False\n",
       "life_post_impression_liked    False\n",
       "life_post_reach_liked         False\n",
       "comment                       False\n",
       "like                          False\n",
       "share                         False\n",
       "type_link                     False\n",
       "type_status                   False\n",
       "type_video                    False\n",
       "cat2                          False\n",
       "cat3                          False\n",
       "month1                        False\n",
       "month2                        False\n",
       "month3                        False\n",
       "month4                        False\n",
       "month5                        False\n",
       "month6                        False\n",
       "month7                        False\n",
       "month8                        False\n",
       "month9                        False\n",
       "month10                       False\n",
       "month11                       False\n",
       "dow1                          False\n",
       "dow2                          False\n",
       "dow3                          False\n",
       "dow4                          False\n",
       "dow5                          False\n",
       "dow6                          False\n",
       "hour2                         False\n",
       "hour3                         False\n",
       "hour4                         False\n",
       "hour5                         False\n",
       "hour6                         False\n",
       "hour7                         False\n",
       "hour8                         False\n",
       "hour9                         False\n",
       "hour10                        False\n",
       "hour11                        False\n",
       "hour12                        False\n",
       "hour13                        False\n",
       "hour14                        False\n",
       "dtype: bool"
      ]
     },
     "execution_count": 30,
     "metadata": {},
     "output_type": "execute_result"
    }
   ],
   "source": [
    "# check if there is any missing value in the test data\n",
    "test.isna().any()"
   ]
  },
  {
   "cell_type": "code",
   "execution_count": 31,
   "metadata": {
    "scrolled": true
   },
   "outputs": [
    {
     "data": {
      "text/plain": [
       "comp_page_like                False\n",
       "Paid                          False\n",
       "life_post_reach               False\n",
       "life_post_impression_liked    False\n",
       "life_post_reach_liked         False\n",
       "comment                       False\n",
       "like                          False\n",
       "share                         False\n",
       "type_link                     False\n",
       "type_status                   False\n",
       "type_video                    False\n",
       "cat2                          False\n",
       "cat3                          False\n",
       "month1                        False\n",
       "month2                        False\n",
       "month3                        False\n",
       "month4                        False\n",
       "month5                        False\n",
       "month6                        False\n",
       "month7                        False\n",
       "month8                        False\n",
       "month9                        False\n",
       "month10                       False\n",
       "month11                       False\n",
       "dow1                          False\n",
       "dow2                          False\n",
       "dow3                          False\n",
       "dow4                          False\n",
       "dow5                          False\n",
       "dow6                          False\n",
       "hour2                         False\n",
       "hour3                         False\n",
       "hour4                         False\n",
       "hour5                         False\n",
       "hour6                         False\n",
       "hour7                         False\n",
       "hour8                         False\n",
       "hour9                         False\n",
       "hour10                        False\n",
       "hour11                        False\n",
       "hour12                        False\n",
       "hour13                        False\n",
       "hour14                        False\n",
       "dtype: bool"
      ]
     },
     "execution_count": 31,
     "metadata": {},
     "output_type": "execute_result"
    }
   ],
   "source": [
    "test.isna().any()\n",
    "# there is none"
   ]
  },
  {
   "cell_type": "code",
   "execution_count": 4,
   "metadata": {
    "scrolled": true
   },
   "outputs": [
    {
     "data": {
      "text/plain": [
       "count      400.000000\n",
       "mean       810.340000\n",
       "std        899.037251\n",
       "min         17.000000\n",
       "25%        335.000000\n",
       "50%        554.500000\n",
       "75%        955.500000\n",
       "max      11328.000000\n",
       "Name: life_post_consumer, dtype: float64"
      ]
     },
     "execution_count": 4,
     "metadata": {},
     "output_type": "execute_result"
    }
   ],
   "source": [
    "# see the statistics of the label of train\n",
    "train['life_post_consumer'].describe()"
   ]
  },
  {
   "cell_type": "code",
   "execution_count": 17,
   "metadata": {},
   "outputs": [
    {
     "data": {
      "text/plain": [
       "count      50.000000\n",
       "mean      840.600000\n",
       "std       937.741229\n",
       "min         9.000000\n",
       "25%       375.750000\n",
       "50%       580.000000\n",
       "75%       989.250000\n",
       "max      5934.000000\n",
       "Name: life_post_consumer, dtype: float64"
      ]
     },
     "execution_count": 17,
     "metadata": {},
     "output_type": "execute_result"
    }
   ],
   "source": [
    "#see the statistics of the label of test\n",
    "testlabel['life_post_consumer'].describe()"
   ]
  },
  {
   "cell_type": "code",
   "execution_count": null,
   "metadata": {},
   "outputs": [],
   "source": [
    "# looks like the label distribution of train and test are very similar\n",
    "# now lets draw some plots to see how close they are"
   ]
  },
  {
   "cell_type": "code",
   "execution_count": 18,
   "metadata": {},
   "outputs": [],
   "source": [
    "import seaborn as sns\n",
    "import matplotlib.pyplot as plt\n",
    "from scipy import stats"
   ]
  },
  {
   "cell_type": "code",
   "execution_count": 23,
   "metadata": {},
   "outputs": [
    {
     "data": {
      "text/plain": [
       "<matplotlib.legend.Legend at 0x21845ff1a08>"
      ]
     },
     "execution_count": 23,
     "metadata": {},
     "output_type": "execute_result"
    },
    {
     "data": {
      "image/png": "[encoded data removed]",
      "text/plain": [
       "<Figure size 432x288 with 1 Axes>"
      ]
     },
     "metadata": {
      "needs_background": "light"
     },
     "output_type": "display_data"
    }
   ],
   "source": [
    "sns.distplot(train['life_post_consumer'], label = \"train\")\n",
    "sns.distplot(testlabel['life_post_consumer'], label = \"test\")\n",
    "plt.legend()"
   ]
  },
  {
   "cell_type": "code",
   "execution_count": null,
   "metadata": {},
   "outputs": [],
   "source": [
    "# training data is more centralized around the mean"
   ]
  },
  {
   "cell_type": "code",
   "execution_count": null,
   "metadata": {},
   "outputs": [],
   "source": []
  },
  {
   "cell_type": "code",
   "execution_count": null,
   "metadata": {},
   "outputs": [],
   "source": [
    "# now see the scatter matrix of this dataset, using only numercial data"
   ]
  },
  {
   "cell_type": "code",
   "execution_count": 35,
   "metadata": {},
   "outputs": [],
   "source": [
    "train_numerical = train[train.columns[0:8]]"
   ]
  },
  {
   "cell_type": "code",
   "execution_count": 36,
   "metadata": {},
   "outputs": [
    {
     "data": {
      "text/plain": [
       "<seaborn.axisgrid.PairGrid at 0x2186ec41048>"
      ]
     },
     "execution_count": 36,
     "metadata": {},
     "output_type": "execute_result"
    },
    {
     "data": {
      "image/png": "[encoded data removed]",
      "text/plain": [
       "<Figure size 1440x1440 with 72 Axes>"
      ]
     },
     "metadata": {
      "needs_background": "light"
     },
     "output_type": "display_data"
    }
   ],
   "source": [
    "sns.pairplot(train_numerical)"
   ]
  },
  {
   "cell_type": "code",
   "execution_count": null,
   "metadata": {},
   "outputs": [],
   "source": [
    "# some of the variables are highly correlated, for example \"life_post_xxx\" variables are highly linearly correlated"
   ]
  },
  {
   "cell_type": "code",
   "execution_count": null,
   "metadata": {},
   "outputs": [],
   "source": [
    "# lets see if there's significance difference between those who paid Facebook to advertise or not"
   ]
  },
  {
   "cell_type": "code",
   "execution_count": 38,
   "metadata": {},
   "outputs": [
    {
     "name": "stderr",
     "output_type": "stream",
     "text": [
      "C:\\ProgramData\\Anaconda3\\lib\\site-packages\\statsmodels\\nonparametric\\kde.py:487: RuntimeWarning: invalid value encountered in true_divide\n",
      "  binned = fast_linbin(X, a, b, gridsize) / (delta * nobs)\n",
      "C:\\ProgramData\\Anaconda3\\lib\\site-packages\\statsmodels\\nonparametric\\kdetools.py:34: RuntimeWarning: invalid value encountered in double_scalars\n",
      "  FAC1 = 2*(np.pi*bw/RANGE)**2\n"
     ]
    },
    {
     "data": {
      "text/plain": [
       "<seaborn.axisgrid.PairGrid at 0x21878b96d08>"
      ]
     },
     "execution_count": 38,
     "metadata": {},
     "output_type": "execute_result"
    },
    {
     "data": {
      "image/png": "[encoded data removed]",
      "text/plain": [
       "<Figure size 1482.38x1440 with 72 Axes>"
      ]
     },
     "metadata": {
      "needs_background": "light"
     },
     "output_type": "display_data"
    }
   ],
   "source": [
    "sns.pairplot(train_numerical,hue=\"Paid\")"
   ]
  },
  {
   "cell_type": "code",
   "execution_count": 39,
   "metadata": {},
   "outputs": [],
   "source": [
    "# based on the diagnoal plots, we can see that those who paid advertisement to Facebook acutally\n",
    "# averagely have fewer \"life_post_reach\", \"like_post_reach_liked\", \"comments\" and \"like\""
   ]
  },
  {
   "cell_type": "code",
   "execution_count": null,
   "metadata": {},
   "outputs": [],
   "source": [
    "# but \"life_post_impression_liked\" is nmuch higher for those who paid advertisement to FB\n",
    "# it seems FB advertisements significantly improved the impression of the pages"
   ]
  },
  {
   "cell_type": "code",
   "execution_count": null,
   "metadata": {},
   "outputs": [],
   "source": [
    "# But the advertisements don't improve \"life_post_consumer\", the label, much though."
   ]
  },
  {
   "cell_type": "markdown",
   "metadata": {},
   "source": [
    "# Q2(case 1 ) y mean method"
   ]
  },
  {
   "cell_type": "code",
   "execution_count": 49,
   "metadata": {},
   "outputs": [],
   "source": [
    "import numpy as np"
   ]
  },
  {
   "cell_type": "code",
   "execution_count": 40,
   "metadata": {},
   "outputs": [],
   "source": [
    "# compute the y mean from training data\n",
    "y_mean_train = train['life_post_consumer'].mean()"
   ]
  },
  {
   "cell_type": "code",
   "execution_count": 41,
   "metadata": {
    "scrolled": true
   },
   "outputs": [
    {
     "data": {
      "text/plain": [
       "810.34"
      ]
     },
     "execution_count": 41,
     "metadata": {},
     "output_type": "execute_result"
    }
   ],
   "source": [
    "y_mean_train"
   ]
  },
  {
   "cell_type": "code",
   "execution_count": 50,
   "metadata": {},
   "outputs": [],
   "source": [
    "case1_label = testlabel\n",
    "# predictions are just repeated y mean train\n",
    "case1_predict = np.repeat(y_mean_train,len(testlabel))"
   ]
  },
  {
   "cell_type": "code",
   "execution_count": 51,
   "metadata": {},
   "outputs": [],
   "source": [
    "from sklearn.metrics import mean_squared_error\n",
    "from math import sqrt\n",
    "\n",
    "case1_rmse = sqrt(mean_squared_error(case1_label, case1_predict))"
   ]
  },
  {
   "cell_type": "code",
   "execution_count": 53,
   "metadata": {},
   "outputs": [
    {
     "data": {
      "text/plain": [
       "928.8095109332162"
      ]
     },
     "execution_count": 53,
     "metadata": {},
     "output_type": "execute_result"
    }
   ],
   "source": [
    "#test_rmse on case1\n",
    "case1_rmse"
   ]
  },
  {
   "cell_type": "code",
   "execution_count": 80,
   "metadata": {
    "scrolled": true
   },
   "outputs": [
    {
     "data": {
      "text/html": [
       "<div>\n",
       "<style scoped>\n",
       "    .dataframe tbody tr th:only-of-type {\n",
       "        vertical-align: middle;\n",
       "    }\n",
       "\n",
       "    .dataframe tbody tr th {\n",
       "        vertical-align: top;\n",
       "    }\n",
       "\n",
       "    .dataframe thead th {\n",
       "        text-align: right;\n",
       "    }\n",
       "</style>\n",
       "<table border=\"1\" class=\"dataframe\">\n",
       "  <thead>\n",
       "    <tr style=\"text-align: right;\">\n",
       "      <th></th>\n",
       "      <th>predict</th>\n",
       "      <th>label</th>\n",
       "    </tr>\n",
       "  </thead>\n",
       "  <tbody>\n",
       "    <tr>\n",
       "      <td>0</td>\n",
       "      <td>810.34</td>\n",
       "      <td>1183</td>\n",
       "    </tr>\n",
       "    <tr>\n",
       "      <td>1</td>\n",
       "      <td>810.34</td>\n",
       "      <td>189</td>\n",
       "    </tr>\n",
       "    <tr>\n",
       "      <td>2</td>\n",
       "      <td>810.34</td>\n",
       "      <td>2327</td>\n",
       "    </tr>\n",
       "    <tr>\n",
       "      <td>3</td>\n",
       "      <td>810.34</td>\n",
       "      <td>76</td>\n",
       "    </tr>\n",
       "    <tr>\n",
       "      <td>4</td>\n",
       "      <td>810.34</td>\n",
       "      <td>354</td>\n",
       "    </tr>\n",
       "    <tr>\n",
       "      <td>5</td>\n",
       "      <td>810.34</td>\n",
       "      <td>713</td>\n",
       "    </tr>\n",
       "    <tr>\n",
       "      <td>6</td>\n",
       "      <td>810.34</td>\n",
       "      <td>204</td>\n",
       "    </tr>\n",
       "    <tr>\n",
       "      <td>7</td>\n",
       "      <td>810.34</td>\n",
       "      <td>288</td>\n",
       "    </tr>\n",
       "    <tr>\n",
       "      <td>8</td>\n",
       "      <td>810.34</td>\n",
       "      <td>555</td>\n",
       "    </tr>\n",
       "    <tr>\n",
       "      <td>9</td>\n",
       "      <td>810.34</td>\n",
       "      <td>586</td>\n",
       "    </tr>\n",
       "    <tr>\n",
       "      <td>10</td>\n",
       "      <td>810.34</td>\n",
       "      <td>446</td>\n",
       "    </tr>\n",
       "    <tr>\n",
       "      <td>11</td>\n",
       "      <td>810.34</td>\n",
       "      <td>884</td>\n",
       "    </tr>\n",
       "    <tr>\n",
       "      <td>12</td>\n",
       "      <td>810.34</td>\n",
       "      <td>524</td>\n",
       "    </tr>\n",
       "    <tr>\n",
       "      <td>13</td>\n",
       "      <td>810.34</td>\n",
       "      <td>672</td>\n",
       "    </tr>\n",
       "    <tr>\n",
       "      <td>14</td>\n",
       "      <td>810.34</td>\n",
       "      <td>23</td>\n",
       "    </tr>\n",
       "    <tr>\n",
       "      <td>15</td>\n",
       "      <td>810.34</td>\n",
       "      <td>570</td>\n",
       "    </tr>\n",
       "    <tr>\n",
       "      <td>16</td>\n",
       "      <td>810.34</td>\n",
       "      <td>1361</td>\n",
       "    </tr>\n",
       "    <tr>\n",
       "      <td>17</td>\n",
       "      <td>810.34</td>\n",
       "      <td>5934</td>\n",
       "    </tr>\n",
       "    <tr>\n",
       "      <td>18</td>\n",
       "      <td>810.34</td>\n",
       "      <td>2319</td>\n",
       "    </tr>\n",
       "    <tr>\n",
       "      <td>19</td>\n",
       "      <td>810.34</td>\n",
       "      <td>1633</td>\n",
       "    </tr>\n",
       "  </tbody>\n",
       "</table>\n",
       "</div>"
      ],
      "text/plain": [
       "    predict  label\n",
       "0    810.34   1183\n",
       "1    810.34    189\n",
       "2    810.34   2327\n",
       "3    810.34     76\n",
       "4    810.34    354\n",
       "5    810.34    713\n",
       "6    810.34    204\n",
       "7    810.34    288\n",
       "8    810.34    555\n",
       "9    810.34    586\n",
       "10   810.34    446\n",
       "11   810.34    884\n",
       "12   810.34    524\n",
       "13   810.34    672\n",
       "14   810.34     23\n",
       "15   810.34    570\n",
       "16   810.34   1361\n",
       "17   810.34   5934\n",
       "18   810.34   2319\n",
       "19   810.34   1633"
      ]
     },
     "execution_count": 80,
     "metadata": {},
     "output_type": "execute_result"
    }
   ],
   "source": [
    "# showing top 20 of the prediction and corresponding label\n",
    "pd.DataFrame({'predict': case1_predict[:20], 'label' : case1_label['life_post_consumer'][:20]})"
   ]
  },
  {
   "cell_type": "markdown",
   "metadata": {},
   "source": [
    "# Q3 (case2A) OLS "
   ]
  },
  {
   "cell_type": "code",
   "execution_count": 81,
   "metadata": {},
   "outputs": [],
   "source": [
    "#construct OLS from sklearn\n",
    "from sklearn.linear_model import LinearRegression"
   ]
  },
  {
   "cell_type": "code",
   "execution_count": 88,
   "metadata": {},
   "outputs": [],
   "source": [
    "case2_train = train.loc[:,train.columns !='life_post_consumer']"
   ]
  },
  {
   "cell_type": "code",
   "execution_count": 89,
   "metadata": {},
   "outputs": [],
   "source": [
    "case2_train_y = train['life_post_consumer']"
   ]
  },
  {
   "cell_type": "code",
   "execution_count": 90,
   "metadata": {},
   "outputs": [],
   "source": [
    "case2 = LinearRegression().fit(case2_train, case2_train_y)"
   ]
  },
  {
   "cell_type": "code",
   "execution_count": 92,
   "metadata": {},
   "outputs": [],
   "source": [
    "case2_label = testlabel\n",
    "# predictions from ols\n",
    "case2_predict = case2.predict(test)"
   ]
  },
  {
   "cell_type": "code",
   "execution_count": 93,
   "metadata": {},
   "outputs": [],
   "source": [
    "case2_rmse = sqrt(mean_squared_error(case2_label, case2_predict))"
   ]
  },
  {
   "cell_type": "code",
   "execution_count": 94,
   "metadata": {},
   "outputs": [
    {
     "data": {
      "text/plain": [
       "692.2891271362014"
      ]
     },
     "execution_count": 94,
     "metadata": {},
     "output_type": "execute_result"
    }
   ],
   "source": [
    "case2_rmse\n",
    "# smaller than y_mean method"
   ]
  },
  {
   "cell_type": "code",
   "execution_count": 95,
   "metadata": {},
   "outputs": [
    {
     "data": {
      "text/html": [
       "<div>\n",
       "<style scoped>\n",
       "    .dataframe tbody tr th:only-of-type {\n",
       "        vertical-align: middle;\n",
       "    }\n",
       "\n",
       "    .dataframe tbody tr th {\n",
       "        vertical-align: top;\n",
       "    }\n",
       "\n",
       "    .dataframe thead th {\n",
       "        text-align: right;\n",
       "    }\n",
       "</style>\n",
       "<table border=\"1\" class=\"dataframe\">\n",
       "  <thead>\n",
       "    <tr style=\"text-align: right;\">\n",
       "      <th></th>\n",
       "      <th>predict</th>\n",
       "      <th>label</th>\n",
       "    </tr>\n",
       "  </thead>\n",
       "  <tbody>\n",
       "    <tr>\n",
       "      <td>0</td>\n",
       "      <td>781.579915</td>\n",
       "      <td>1183</td>\n",
       "    </tr>\n",
       "    <tr>\n",
       "      <td>1</td>\n",
       "      <td>315.920431</td>\n",
       "      <td>189</td>\n",
       "    </tr>\n",
       "    <tr>\n",
       "      <td>2</td>\n",
       "      <td>2279.084852</td>\n",
       "      <td>2327</td>\n",
       "    </tr>\n",
       "    <tr>\n",
       "      <td>3</td>\n",
       "      <td>-136.342864</td>\n",
       "      <td>76</td>\n",
       "    </tr>\n",
       "    <tr>\n",
       "      <td>4</td>\n",
       "      <td>302.356241</td>\n",
       "      <td>354</td>\n",
       "    </tr>\n",
       "    <tr>\n",
       "      <td>5</td>\n",
       "      <td>462.424024</td>\n",
       "      <td>713</td>\n",
       "    </tr>\n",
       "    <tr>\n",
       "      <td>6</td>\n",
       "      <td>321.677708</td>\n",
       "      <td>204</td>\n",
       "    </tr>\n",
       "    <tr>\n",
       "      <td>7</td>\n",
       "      <td>504.522448</td>\n",
       "      <td>288</td>\n",
       "    </tr>\n",
       "    <tr>\n",
       "      <td>8</td>\n",
       "      <td>505.895471</td>\n",
       "      <td>555</td>\n",
       "    </tr>\n",
       "    <tr>\n",
       "      <td>9</td>\n",
       "      <td>488.367006</td>\n",
       "      <td>586</td>\n",
       "    </tr>\n",
       "    <tr>\n",
       "      <td>10</td>\n",
       "      <td>392.614235</td>\n",
       "      <td>446</td>\n",
       "    </tr>\n",
       "    <tr>\n",
       "      <td>11</td>\n",
       "      <td>388.918467</td>\n",
       "      <td>884</td>\n",
       "    </tr>\n",
       "    <tr>\n",
       "      <td>12</td>\n",
       "      <td>804.875275</td>\n",
       "      <td>524</td>\n",
       "    </tr>\n",
       "    <tr>\n",
       "      <td>13</td>\n",
       "      <td>634.323644</td>\n",
       "      <td>672</td>\n",
       "    </tr>\n",
       "    <tr>\n",
       "      <td>14</td>\n",
       "      <td>176.317656</td>\n",
       "      <td>23</td>\n",
       "    </tr>\n",
       "    <tr>\n",
       "      <td>15</td>\n",
       "      <td>645.729138</td>\n",
       "      <td>570</td>\n",
       "    </tr>\n",
       "    <tr>\n",
       "      <td>16</td>\n",
       "      <td>1983.538589</td>\n",
       "      <td>1361</td>\n",
       "    </tr>\n",
       "    <tr>\n",
       "      <td>17</td>\n",
       "      <td>3144.397100</td>\n",
       "      <td>5934</td>\n",
       "    </tr>\n",
       "    <tr>\n",
       "      <td>18</td>\n",
       "      <td>4060.610712</td>\n",
       "      <td>2319</td>\n",
       "    </tr>\n",
       "    <tr>\n",
       "      <td>19</td>\n",
       "      <td>4288.223081</td>\n",
       "      <td>1633</td>\n",
       "    </tr>\n",
       "  </tbody>\n",
       "</table>\n",
       "</div>"
      ],
      "text/plain": [
       "        predict  label\n",
       "0    781.579915   1183\n",
       "1    315.920431    189\n",
       "2   2279.084852   2327\n",
       "3   -136.342864     76\n",
       "4    302.356241    354\n",
       "5    462.424024    713\n",
       "6    321.677708    204\n",
       "7    504.522448    288\n",
       "8    505.895471    555\n",
       "9    488.367006    586\n",
       "10   392.614235    446\n",
       "11   388.918467    884\n",
       "12   804.875275    524\n",
       "13   634.323644    672\n",
       "14   176.317656     23\n",
       "15   645.729138    570\n",
       "16  1983.538589   1361\n",
       "17  3144.397100   5934\n",
       "18  4060.610712   2319\n",
       "19  4288.223081   1633"
      ]
     },
     "execution_count": 95,
     "metadata": {},
     "output_type": "execute_result"
    }
   ],
   "source": [
    "# showing top 20 of the prediction and corresponding label\n",
    "pd.DataFrame({'predict': case2_predict[:20], 'label' : case2_label['life_post_consumer'][:20]})"
   ]
  },
  {
   "cell_type": "markdown",
   "metadata": {},
   "source": [
    "# Q4 (case2B) OLS with y de-mean"
   ]
  },
  {
   "cell_type": "code",
   "execution_count": 122,
   "metadata": {},
   "outputs": [],
   "source": [
    "#construct OLS from sklearn\n",
    "from sklearn.linear_model import LinearRegression"
   ]
  },
  {
   "cell_type": "code",
   "execution_count": 123,
   "metadata": {},
   "outputs": [],
   "source": [
    "case2B_train = train.loc[:,train.columns !='life_post_consumer']"
   ]
  },
  {
   "cell_type": "code",
   "execution_count": 124,
   "metadata": {},
   "outputs": [],
   "source": [
    "case2B_train_y = train['life_post_consumer'] - train['life_post_consumer'].mean()"
   ]
  },
  {
   "cell_type": "code",
   "execution_count": 125,
   "metadata": {},
   "outputs": [],
   "source": [
    "case2B = LinearRegression().fit(case2B_train, case2B_train_y)"
   ]
  },
  {
   "cell_type": "code",
   "execution_count": 126,
   "metadata": {},
   "outputs": [],
   "source": [
    "case2B_label = testlabel\n",
    "# predictions from ols\n",
    "case2B_predict = case2B.predict(test)"
   ]
  },
  {
   "cell_type": "code",
   "execution_count": 127,
   "metadata": {},
   "outputs": [],
   "source": [
    "#add back the mean of y train\n",
    "case2B_predict += train['life_post_consumer'].mean()"
   ]
  },
  {
   "cell_type": "code",
   "execution_count": 128,
   "metadata": {},
   "outputs": [],
   "source": [
    "case2B_rmse = sqrt(mean_squared_error(case2B_label, case2B_predict))"
   ]
  },
  {
   "cell_type": "code",
   "execution_count": 129,
   "metadata": {},
   "outputs": [
    {
     "data": {
      "text/plain": [
       "692.2891271361826"
      ]
     },
     "execution_count": 129,
     "metadata": {},
     "output_type": "execute_result"
    }
   ],
   "source": [
    "case2B_rmse\n",
    "# smaller than case2 method, but only very slightly (v.s. 692.2891271362014)\n",
    "# we can say its just the same"
   ]
  },
  {
   "cell_type": "code",
   "execution_count": 130,
   "metadata": {},
   "outputs": [
    {
     "data": {
      "text/html": [
       "<div>\n",
       "<style scoped>\n",
       "    .dataframe tbody tr th:only-of-type {\n",
       "        vertical-align: middle;\n",
       "    }\n",
       "\n",
       "    .dataframe tbody tr th {\n",
       "        vertical-align: top;\n",
       "    }\n",
       "\n",
       "    .dataframe thead th {\n",
       "        text-align: right;\n",
       "    }\n",
       "</style>\n",
       "<table border=\"1\" class=\"dataframe\">\n",
       "  <thead>\n",
       "    <tr style=\"text-align: right;\">\n",
       "      <th></th>\n",
       "      <th>predict</th>\n",
       "      <th>label</th>\n",
       "    </tr>\n",
       "  </thead>\n",
       "  <tbody>\n",
       "    <tr>\n",
       "      <td>0</td>\n",
       "      <td>781.579915</td>\n",
       "      <td>1183</td>\n",
       "    </tr>\n",
       "    <tr>\n",
       "      <td>1</td>\n",
       "      <td>315.920431</td>\n",
       "      <td>189</td>\n",
       "    </tr>\n",
       "    <tr>\n",
       "      <td>2</td>\n",
       "      <td>2279.084852</td>\n",
       "      <td>2327</td>\n",
       "    </tr>\n",
       "    <tr>\n",
       "      <td>3</td>\n",
       "      <td>-136.342864</td>\n",
       "      <td>76</td>\n",
       "    </tr>\n",
       "    <tr>\n",
       "      <td>4</td>\n",
       "      <td>302.356241</td>\n",
       "      <td>354</td>\n",
       "    </tr>\n",
       "    <tr>\n",
       "      <td>5</td>\n",
       "      <td>462.424024</td>\n",
       "      <td>713</td>\n",
       "    </tr>\n",
       "    <tr>\n",
       "      <td>6</td>\n",
       "      <td>321.677708</td>\n",
       "      <td>204</td>\n",
       "    </tr>\n",
       "    <tr>\n",
       "      <td>7</td>\n",
       "      <td>504.522448</td>\n",
       "      <td>288</td>\n",
       "    </tr>\n",
       "    <tr>\n",
       "      <td>8</td>\n",
       "      <td>505.895471</td>\n",
       "      <td>555</td>\n",
       "    </tr>\n",
       "    <tr>\n",
       "      <td>9</td>\n",
       "      <td>488.367006</td>\n",
       "      <td>586</td>\n",
       "    </tr>\n",
       "    <tr>\n",
       "      <td>10</td>\n",
       "      <td>392.614235</td>\n",
       "      <td>446</td>\n",
       "    </tr>\n",
       "    <tr>\n",
       "      <td>11</td>\n",
       "      <td>388.918467</td>\n",
       "      <td>884</td>\n",
       "    </tr>\n",
       "    <tr>\n",
       "      <td>12</td>\n",
       "      <td>804.875275</td>\n",
       "      <td>524</td>\n",
       "    </tr>\n",
       "    <tr>\n",
       "      <td>13</td>\n",
       "      <td>634.323644</td>\n",
       "      <td>672</td>\n",
       "    </tr>\n",
       "    <tr>\n",
       "      <td>14</td>\n",
       "      <td>176.317656</td>\n",
       "      <td>23</td>\n",
       "    </tr>\n",
       "    <tr>\n",
       "      <td>15</td>\n",
       "      <td>645.729138</td>\n",
       "      <td>570</td>\n",
       "    </tr>\n",
       "    <tr>\n",
       "      <td>16</td>\n",
       "      <td>1983.538589</td>\n",
       "      <td>1361</td>\n",
       "    </tr>\n",
       "    <tr>\n",
       "      <td>17</td>\n",
       "      <td>3144.397100</td>\n",
       "      <td>5934</td>\n",
       "    </tr>\n",
       "    <tr>\n",
       "      <td>18</td>\n",
       "      <td>4060.610712</td>\n",
       "      <td>2319</td>\n",
       "    </tr>\n",
       "    <tr>\n",
       "      <td>19</td>\n",
       "      <td>4288.223081</td>\n",
       "      <td>1633</td>\n",
       "    </tr>\n",
       "  </tbody>\n",
       "</table>\n",
       "</div>"
      ],
      "text/plain": [
       "        predict  label\n",
       "0    781.579915   1183\n",
       "1    315.920431    189\n",
       "2   2279.084852   2327\n",
       "3   -136.342864     76\n",
       "4    302.356241    354\n",
       "5    462.424024    713\n",
       "6    321.677708    204\n",
       "7    504.522448    288\n",
       "8    505.895471    555\n",
       "9    488.367006    586\n",
       "10   392.614235    446\n",
       "11   388.918467    884\n",
       "12   804.875275    524\n",
       "13   634.323644    672\n",
       "14   176.317656     23\n",
       "15   645.729138    570\n",
       "16  1983.538589   1361\n",
       "17  3144.397100   5934\n",
       "18  4060.610712   2319\n",
       "19  4288.223081   1633"
      ]
     },
     "execution_count": 130,
     "metadata": {},
     "output_type": "execute_result"
    }
   ],
   "source": [
    "# showing top 20 of the prediction and corresponding label\n",
    "pd.DataFrame({'predict': case2B_predict[:20], 'label' : case2B_label['life_post_consumer'][:20]})"
   ]
  },
  {
   "cell_type": "code",
   "execution_count": null,
   "metadata": {},
   "outputs": [],
   "source": []
  },
  {
   "cell_type": "markdown",
   "metadata": {},
   "source": [
    "# Q5 (case2C) OLS with y de-mean, and standardized features"
   ]
  },
  {
   "cell_type": "code",
   "execution_count": 146,
   "metadata": {},
   "outputs": [],
   "source": [
    "#construct OLS from sklearn\n",
    "from sklearn.linear_model import LinearRegression"
   ]
  },
  {
   "cell_type": "code",
   "execution_count": 147,
   "metadata": {},
   "outputs": [],
   "source": [
    "# Standardizing features\n",
    "from sklearn import preprocessing\n",
    "case2C_train = preprocessing.scale(train.loc[:,train.columns !='life_post_consumer'])"
   ]
  },
  {
   "cell_type": "code",
   "execution_count": 148,
   "metadata": {},
   "outputs": [],
   "source": [
    "case2C_scaler = preprocessing.StandardScaler().fit(train.loc[:,train.columns !='life_post_consumer'])"
   ]
  },
  {
   "cell_type": "code",
   "execution_count": 149,
   "metadata": {},
   "outputs": [],
   "source": [
    "case2C_train_y = train['life_post_consumer'] - train['life_post_consumer'].mean()"
   ]
  },
  {
   "cell_type": "code",
   "execution_count": 150,
   "metadata": {},
   "outputs": [],
   "source": [
    "case2C = LinearRegression().fit(case2C_train, case2C_train_y)"
   ]
  },
  {
   "cell_type": "code",
   "execution_count": 151,
   "metadata": {},
   "outputs": [],
   "source": [
    "case2C_label = testlabel\n",
    "# predictions from ols\n",
    "#test data also have to be standardized based on train features\n",
    "case2C_predict = case2C.predict(case2C_scaler.transform(test))"
   ]
  },
  {
   "cell_type": "code",
   "execution_count": 152,
   "metadata": {},
   "outputs": [],
   "source": [
    "#add back the mean of y train\n",
    "case2C_predict += train['life_post_consumer'].mean()"
   ]
  },
  {
   "cell_type": "code",
   "execution_count": 153,
   "metadata": {},
   "outputs": [],
   "source": [
    "case2C_rmse = sqrt(mean_squared_error(case2C_label, case2C_predict))"
   ]
  },
  {
   "cell_type": "code",
   "execution_count": 154,
   "metadata": {},
   "outputs": [
    {
     "data": {
      "text/plain": [
       "692.2891271372005"
      ]
     },
     "execution_count": 154,
     "metadata": {},
     "output_type": "execute_result"
    }
   ],
   "source": [
    "case2C_rmse\n",
    "# higher than case2B method, but only very slightly (v.s. 692.2891271362014)\n",
    "# we can say its just the same"
   ]
  },
  {
   "cell_type": "code",
   "execution_count": 155,
   "metadata": {
    "scrolled": true
   },
   "outputs": [
    {
     "data": {
      "text/html": [
       "<div>\n",
       "<style scoped>\n",
       "    .dataframe tbody tr th:only-of-type {\n",
       "        vertical-align: middle;\n",
       "    }\n",
       "\n",
       "    .dataframe tbody tr th {\n",
       "        vertical-align: top;\n",
       "    }\n",
       "\n",
       "    .dataframe thead th {\n",
       "        text-align: right;\n",
       "    }\n",
       "</style>\n",
       "<table border=\"1\" class=\"dataframe\">\n",
       "  <thead>\n",
       "    <tr style=\"text-align: right;\">\n",
       "      <th></th>\n",
       "      <th>predict</th>\n",
       "      <th>label</th>\n",
       "    </tr>\n",
       "  </thead>\n",
       "  <tbody>\n",
       "    <tr>\n",
       "      <td>0</td>\n",
       "      <td>781.579915</td>\n",
       "      <td>1183</td>\n",
       "    </tr>\n",
       "    <tr>\n",
       "      <td>1</td>\n",
       "      <td>315.920431</td>\n",
       "      <td>189</td>\n",
       "    </tr>\n",
       "    <tr>\n",
       "      <td>2</td>\n",
       "      <td>2279.084852</td>\n",
       "      <td>2327</td>\n",
       "    </tr>\n",
       "    <tr>\n",
       "      <td>3</td>\n",
       "      <td>-136.342864</td>\n",
       "      <td>76</td>\n",
       "    </tr>\n",
       "    <tr>\n",
       "      <td>4</td>\n",
       "      <td>302.356241</td>\n",
       "      <td>354</td>\n",
       "    </tr>\n",
       "    <tr>\n",
       "      <td>5</td>\n",
       "      <td>462.424024</td>\n",
       "      <td>713</td>\n",
       "    </tr>\n",
       "    <tr>\n",
       "      <td>6</td>\n",
       "      <td>321.677708</td>\n",
       "      <td>204</td>\n",
       "    </tr>\n",
       "    <tr>\n",
       "      <td>7</td>\n",
       "      <td>504.522448</td>\n",
       "      <td>288</td>\n",
       "    </tr>\n",
       "    <tr>\n",
       "      <td>8</td>\n",
       "      <td>505.895471</td>\n",
       "      <td>555</td>\n",
       "    </tr>\n",
       "    <tr>\n",
       "      <td>9</td>\n",
       "      <td>488.367006</td>\n",
       "      <td>586</td>\n",
       "    </tr>\n",
       "    <tr>\n",
       "      <td>10</td>\n",
       "      <td>392.614235</td>\n",
       "      <td>446</td>\n",
       "    </tr>\n",
       "    <tr>\n",
       "      <td>11</td>\n",
       "      <td>388.918467</td>\n",
       "      <td>884</td>\n",
       "    </tr>\n",
       "    <tr>\n",
       "      <td>12</td>\n",
       "      <td>804.875275</td>\n",
       "      <td>524</td>\n",
       "    </tr>\n",
       "    <tr>\n",
       "      <td>13</td>\n",
       "      <td>634.323644</td>\n",
       "      <td>672</td>\n",
       "    </tr>\n",
       "    <tr>\n",
       "      <td>14</td>\n",
       "      <td>176.317656</td>\n",
       "      <td>23</td>\n",
       "    </tr>\n",
       "    <tr>\n",
       "      <td>15</td>\n",
       "      <td>645.729138</td>\n",
       "      <td>570</td>\n",
       "    </tr>\n",
       "    <tr>\n",
       "      <td>16</td>\n",
       "      <td>1983.538589</td>\n",
       "      <td>1361</td>\n",
       "    </tr>\n",
       "    <tr>\n",
       "      <td>17</td>\n",
       "      <td>3144.397100</td>\n",
       "      <td>5934</td>\n",
       "    </tr>\n",
       "    <tr>\n",
       "      <td>18</td>\n",
       "      <td>4060.610712</td>\n",
       "      <td>2319</td>\n",
       "    </tr>\n",
       "    <tr>\n",
       "      <td>19</td>\n",
       "      <td>4288.223081</td>\n",
       "      <td>1633</td>\n",
       "    </tr>\n",
       "  </tbody>\n",
       "</table>\n",
       "</div>"
      ],
      "text/plain": [
       "        predict  label\n",
       "0    781.579915   1183\n",
       "1    315.920431    189\n",
       "2   2279.084852   2327\n",
       "3   -136.342864     76\n",
       "4    302.356241    354\n",
       "5    462.424024    713\n",
       "6    321.677708    204\n",
       "7    504.522448    288\n",
       "8    505.895471    555\n",
       "9    488.367006    586\n",
       "10   392.614235    446\n",
       "11   388.918467    884\n",
       "12   804.875275    524\n",
       "13   634.323644    672\n",
       "14   176.317656     23\n",
       "15   645.729138    570\n",
       "16  1983.538589   1361\n",
       "17  3144.397100   5934\n",
       "18  4060.610712   2319\n",
       "19  4288.223081   1633"
      ]
     },
     "execution_count": 155,
     "metadata": {},
     "output_type": "execute_result"
    }
   ],
   "source": [
    "# showing top 20 of the prediction and corresponding label\n",
    "pd.DataFrame({'predict': case2C_predict[:20], 'label' : case2C_label['life_post_consumer'][:20]})"
   ]
  },
  {
   "cell_type": "code",
   "execution_count": null,
   "metadata": {},
   "outputs": [],
   "source": []
  },
  {
   "cell_type": "markdown",
   "metadata": {},
   "source": [
    "# Q6 (case3A) Ridge Regression"
   ]
  },
  {
   "cell_type": "code",
   "execution_count": 398,
   "metadata": {},
   "outputs": [],
   "source": [
    "#Construct a ridge regression from sklearn\n",
    "from sklearn.linear_model import Ridge"
   ]
  },
  {
   "cell_type": "code",
   "execution_count": 399,
   "metadata": {},
   "outputs": [],
   "source": [
    "case3A_train = train.loc[:,train.columns !='life_post_consumer']\n",
    "case3A_train_y = train['life_post_consumer']"
   ]
  },
  {
   "cell_type": "code",
   "execution_count": 400,
   "metadata": {
    "scrolled": true
   },
   "outputs": [],
   "source": [
    "list_of_case3A_rmse = []\n",
    "# regularization coefficient tuning\n",
    "def tune_ridge_alpha(alpha):\n",
    "    case3A = Ridge(alpha).fit(case3A_train, case3A_train_y)\n",
    "    case3A_predict = case3A.predict(test)\n",
    "    case3A_rmse = sqrt(mean_squared_error(case3A_label,case3A_predict))\n",
    "    list_of_case3A_rmse.append(case3A_rmse)\n",
    "    return case3A_predict"
   ]
  },
  {
   "cell_type": "code",
   "execution_count": 401,
   "metadata": {},
   "outputs": [],
   "source": [
    "for alpha in [0.01, 0.1, 1, 5, 10, 20, 50, 100, 500, 1000]:\n",
    "    tune_ridge_alpha(alpha)"
   ]
  },
  {
   "cell_type": "code",
   "execution_count": 402,
   "metadata": {
    "scrolled": true
   },
   "outputs": [
    {
     "data": {
      "text/plain": [
       "[691.7564197164962,\n",
       " 690.4794727071568,\n",
       " 684.0592940464088,\n",
       " 666.3743642523865,\n",
       " 660.5612900111673,\n",
       " 664.8697142964963,\n",
       " 690.4193469387994,\n",
       " 717.128279030616,\n",
       " 763.7089594553058,\n",
       " 773.6019481998379]"
      ]
     },
     "execution_count": 402,
     "metadata": {},
     "output_type": "execute_result"
    }
   ],
   "source": [
    "list_of_case3A_rmse"
   ]
  },
  {
   "cell_type": "code",
   "execution_count": 403,
   "metadata": {},
   "outputs": [
    {
     "data": {
      "image/png": "[encoded data removed]",
      "text/plain": [
       "<Figure size 432x288 with 1 Axes>"
      ]
     },
     "metadata": {
      "needs_background": "light"
     },
     "output_type": "display_data"
    }
   ],
   "source": [
    "# plot alpha against rmse\n",
    "x = np.arange(10)\n",
    "y = list_of_case3A_rmse\n",
    "my_xticks = [0.01, 0.1, 1, 5, 10, 20, 50, 100, 500, 1000]\n",
    "plt.xticks(x, my_xticks)\n",
    "plt.plot(x, y)\n",
    "plt.show()"
   ]
  },
  {
   "cell_type": "code",
   "execution_count": 404,
   "metadata": {},
   "outputs": [
    {
     "data": {
      "text/plain": [
       "660.5612900111673"
      ]
     },
     "execution_count": 404,
     "metadata": {},
     "output_type": "execute_result"
    }
   ],
   "source": [
    "# best test RMSE is on alpha = 10\n",
    "# RMSE is 660.5612900111673\n",
    "min(list_of_case3A_rmse)"
   ]
  },
  {
   "cell_type": "code",
   "execution_count": 405,
   "metadata": {},
   "outputs": [],
   "source": [
    "# fit a ridge regression using best alpha\n",
    "case3A_predict = tune_ridge_alpha(10)\n",
    "#prediction from best alpha"
   ]
  },
  {
   "cell_type": "code",
   "execution_count": 406,
   "metadata": {},
   "outputs": [
    {
     "data": {
      "text/html": [
       "<div>\n",
       "<style scoped>\n",
       "    .dataframe tbody tr th:only-of-type {\n",
       "        vertical-align: middle;\n",
       "    }\n",
       "\n",
       "    .dataframe tbody tr th {\n",
       "        vertical-align: top;\n",
       "    }\n",
       "\n",
       "    .dataframe thead th {\n",
       "        text-align: right;\n",
       "    }\n",
       "</style>\n",
       "<table border=\"1\" class=\"dataframe\">\n",
       "  <thead>\n",
       "    <tr style=\"text-align: right;\">\n",
       "      <th></th>\n",
       "      <th>predict</th>\n",
       "      <th>label</th>\n",
       "    </tr>\n",
       "  </thead>\n",
       "  <tbody>\n",
       "    <tr>\n",
       "      <td>0</td>\n",
       "      <td>1068.333624</td>\n",
       "      <td>1183</td>\n",
       "    </tr>\n",
       "    <tr>\n",
       "      <td>1</td>\n",
       "      <td>229.755319</td>\n",
       "      <td>189</td>\n",
       "    </tr>\n",
       "    <tr>\n",
       "      <td>2</td>\n",
       "      <td>2008.558892</td>\n",
       "      <td>2327</td>\n",
       "    </tr>\n",
       "    <tr>\n",
       "      <td>3</td>\n",
       "      <td>-102.874899</td>\n",
       "      <td>76</td>\n",
       "    </tr>\n",
       "    <tr>\n",
       "      <td>4</td>\n",
       "      <td>541.457699</td>\n",
       "      <td>354</td>\n",
       "    </tr>\n",
       "    <tr>\n",
       "      <td>5</td>\n",
       "      <td>606.459258</td>\n",
       "      <td>713</td>\n",
       "    </tr>\n",
       "    <tr>\n",
       "      <td>6</td>\n",
       "      <td>414.982798</td>\n",
       "      <td>204</td>\n",
       "    </tr>\n",
       "    <tr>\n",
       "      <td>7</td>\n",
       "      <td>602.810514</td>\n",
       "      <td>288</td>\n",
       "    </tr>\n",
       "    <tr>\n",
       "      <td>8</td>\n",
       "      <td>500.184385</td>\n",
       "      <td>555</td>\n",
       "    </tr>\n",
       "    <tr>\n",
       "      <td>9</td>\n",
       "      <td>492.306636</td>\n",
       "      <td>586</td>\n",
       "    </tr>\n",
       "    <tr>\n",
       "      <td>10</td>\n",
       "      <td>508.376500</td>\n",
       "      <td>446</td>\n",
       "    </tr>\n",
       "    <tr>\n",
       "      <td>11</td>\n",
       "      <td>409.130022</td>\n",
       "      <td>884</td>\n",
       "    </tr>\n",
       "    <tr>\n",
       "      <td>12</td>\n",
       "      <td>730.467680</td>\n",
       "      <td>524</td>\n",
       "    </tr>\n",
       "    <tr>\n",
       "      <td>13</td>\n",
       "      <td>561.060328</td>\n",
       "      <td>672</td>\n",
       "    </tr>\n",
       "    <tr>\n",
       "      <td>14</td>\n",
       "      <td>294.450897</td>\n",
       "      <td>23</td>\n",
       "    </tr>\n",
       "    <tr>\n",
       "      <td>15</td>\n",
       "      <td>602.482867</td>\n",
       "      <td>570</td>\n",
       "    </tr>\n",
       "    <tr>\n",
       "      <td>16</td>\n",
       "      <td>1632.182715</td>\n",
       "      <td>1361</td>\n",
       "    </tr>\n",
       "    <tr>\n",
       "      <td>17</td>\n",
       "      <td>2698.882818</td>\n",
       "      <td>5934</td>\n",
       "    </tr>\n",
       "    <tr>\n",
       "      <td>18</td>\n",
       "      <td>3841.631528</td>\n",
       "      <td>2319</td>\n",
       "    </tr>\n",
       "    <tr>\n",
       "      <td>19</td>\n",
       "      <td>3892.400909</td>\n",
       "      <td>1633</td>\n",
       "    </tr>\n",
       "  </tbody>\n",
       "</table>\n",
       "</div>"
      ],
      "text/plain": [
       "        predict  label\n",
       "0   1068.333624   1183\n",
       "1    229.755319    189\n",
       "2   2008.558892   2327\n",
       "3   -102.874899     76\n",
       "4    541.457699    354\n",
       "5    606.459258    713\n",
       "6    414.982798    204\n",
       "7    602.810514    288\n",
       "8    500.184385    555\n",
       "9    492.306636    586\n",
       "10   508.376500    446\n",
       "11   409.130022    884\n",
       "12   730.467680    524\n",
       "13   561.060328    672\n",
       "14   294.450897     23\n",
       "15   602.482867    570\n",
       "16  1632.182715   1361\n",
       "17  2698.882818   5934\n",
       "18  3841.631528   2319\n",
       "19  3892.400909   1633"
      ]
     },
     "execution_count": 406,
     "metadata": {},
     "output_type": "execute_result"
    }
   ],
   "source": [
    "#top 20 prediction and label from this model\n",
    "pd.DataFrame({'predict': case3A_predict[:20], 'label' : case3A_label['life_post_consumer'][:20]})"
   ]
  },
  {
   "cell_type": "code",
   "execution_count": null,
   "metadata": {},
   "outputs": [],
   "source": []
  },
  {
   "cell_type": "markdown",
   "metadata": {},
   "source": [
    "# Q7 (case3B) Ridge Regression with numerical features standardized and y de-mean"
   ]
  },
  {
   "cell_type": "code",
   "execution_count": 530,
   "metadata": {},
   "outputs": [],
   "source": [
    "#Construct a ridge regression from sklearn\n",
    "from sklearn.linear_model import Ridge"
   ]
  },
  {
   "cell_type": "code",
   "execution_count": 531,
   "metadata": {},
   "outputs": [],
   "source": [
    "# Standardizing features\n",
    "from sklearn import preprocessing"
   ]
  },
  {
   "cell_type": "code",
   "execution_count": 532,
   "metadata": {},
   "outputs": [],
   "source": [
    "#get all numerical columns\n",
    "train_numerical = train[train.columns[0:9]]"
   ]
  },
  {
   "cell_type": "code",
   "execution_count": 533,
   "metadata": {},
   "outputs": [
    {
     "data": {
      "text/html": [
       "<div>\n",
       "<style scoped>\n",
       "    .dataframe tbody tr th:only-of-type {\n",
       "        vertical-align: middle;\n",
       "    }\n",
       "\n",
       "    .dataframe tbody tr th {\n",
       "        vertical-align: top;\n",
       "    }\n",
       "\n",
       "    .dataframe thead th {\n",
       "        text-align: right;\n",
       "    }\n",
       "</style>\n",
       "<table border=\"1\" class=\"dataframe\">\n",
       "  <thead>\n",
       "    <tr style=\"text-align: right;\">\n",
       "      <th></th>\n",
       "      <th>life_post_consumer</th>\n",
       "      <th>comp_page_like</th>\n",
       "      <th>Paid</th>\n",
       "      <th>life_post_reach</th>\n",
       "      <th>life_post_impression_liked</th>\n",
       "      <th>life_post_reach_liked</th>\n",
       "      <th>comment</th>\n",
       "      <th>like</th>\n",
       "      <th>share</th>\n",
       "    </tr>\n",
       "  </thead>\n",
       "  <tbody>\n",
       "    <tr>\n",
       "      <td>0</td>\n",
       "      <td>523</td>\n",
       "      <td>125612</td>\n",
       "      <td>0</td>\n",
       "      <td>2763</td>\n",
       "      <td>3519</td>\n",
       "      <td>2124</td>\n",
       "      <td>0</td>\n",
       "      <td>62</td>\n",
       "      <td>10</td>\n",
       "    </tr>\n",
       "    <tr>\n",
       "      <td>1</td>\n",
       "      <td>408</td>\n",
       "      <td>135700</td>\n",
       "      <td>0</td>\n",
       "      <td>3756</td>\n",
       "      <td>4935</td>\n",
       "      <td>2556</td>\n",
       "      <td>16</td>\n",
       "      <td>117</td>\n",
       "      <td>30</td>\n",
       "    </tr>\n",
       "    <tr>\n",
       "      <td>2</td>\n",
       "      <td>37</td>\n",
       "      <td>137020</td>\n",
       "      <td>1</td>\n",
       "      <td>1357</td>\n",
       "      <td>2154</td>\n",
       "      <td>1120</td>\n",
       "      <td>0</td>\n",
       "      <td>0</td>\n",
       "      <td>0</td>\n",
       "    </tr>\n",
       "    <tr>\n",
       "      <td>3</td>\n",
       "      <td>808</td>\n",
       "      <td>137893</td>\n",
       "      <td>1</td>\n",
       "      <td>37376</td>\n",
       "      <td>22100</td>\n",
       "      <td>10880</td>\n",
       "      <td>20</td>\n",
       "      <td>411</td>\n",
       "      <td>74</td>\n",
       "    </tr>\n",
       "    <tr>\n",
       "      <td>4</td>\n",
       "      <td>359</td>\n",
       "      <td>133594</td>\n",
       "      <td>0</td>\n",
       "      <td>1809</td>\n",
       "      <td>2541</td>\n",
       "      <td>1435</td>\n",
       "      <td>2</td>\n",
       "      <td>64</td>\n",
       "      <td>7</td>\n",
       "    </tr>\n",
       "    <tr>\n",
       "      <td>...</td>\n",
       "      <td>...</td>\n",
       "      <td>...</td>\n",
       "      <td>...</td>\n",
       "      <td>...</td>\n",
       "      <td>...</td>\n",
       "      <td>...</td>\n",
       "      <td>...</td>\n",
       "      <td>...</td>\n",
       "      <td>...</td>\n",
       "    </tr>\n",
       "    <tr>\n",
       "      <td>395</td>\n",
       "      <td>453</td>\n",
       "      <td>107907</td>\n",
       "      <td>0</td>\n",
       "      <td>4390</td>\n",
       "      <td>4607</td>\n",
       "      <td>2862</td>\n",
       "      <td>1</td>\n",
       "      <td>63</td>\n",
       "      <td>26</td>\n",
       "    </tr>\n",
       "    <tr>\n",
       "      <td>396</td>\n",
       "      <td>1038</td>\n",
       "      <td>126141</td>\n",
       "      <td>0</td>\n",
       "      <td>20896</td>\n",
       "      <td>19738</td>\n",
       "      <td>13656</td>\n",
       "      <td>103</td>\n",
       "      <td>469</td>\n",
       "      <td>33</td>\n",
       "    </tr>\n",
       "    <tr>\n",
       "      <td>397</td>\n",
       "      <td>3682</td>\n",
       "      <td>126424</td>\n",
       "      <td>0</td>\n",
       "      <td>18320</td>\n",
       "      <td>25584</td>\n",
       "      <td>14920</td>\n",
       "      <td>36</td>\n",
       "      <td>98</td>\n",
       "      <td>14</td>\n",
       "    </tr>\n",
       "    <tr>\n",
       "      <td>398</td>\n",
       "      <td>1330</td>\n",
       "      <td>129600</td>\n",
       "      <td>1</td>\n",
       "      <td>40336</td>\n",
       "      <td>27771</td>\n",
       "      <td>14848</td>\n",
       "      <td>4</td>\n",
       "      <td>104</td>\n",
       "      <td>10</td>\n",
       "    </tr>\n",
       "    <tr>\n",
       "      <td>399</td>\n",
       "      <td>356</td>\n",
       "      <td>117764</td>\n",
       "      <td>0</td>\n",
       "      <td>3144</td>\n",
       "      <td>3586</td>\n",
       "      <td>2148</td>\n",
       "      <td>1</td>\n",
       "      <td>58</td>\n",
       "      <td>13</td>\n",
       "    </tr>\n",
       "  </tbody>\n",
       "</table>\n",
       "<p>400 rows × 9 columns</p>\n",
       "</div>"
      ],
      "text/plain": [
       "     life_post_consumer  comp_page_like  Paid  life_post_reach  \\\n",
       "0                   523          125612     0             2763   \n",
       "1                   408          135700     0             3756   \n",
       "2                    37          137020     1             1357   \n",
       "3                   808          137893     1            37376   \n",
       "4                   359          133594     0             1809   \n",
       "..                  ...             ...   ...              ...   \n",
       "395                 453          107907     0             4390   \n",
       "396                1038          126141     0            20896   \n",
       "397                3682          126424     0            18320   \n",
       "398                1330          129600     1            40336   \n",
       "399                 356          117764     0             3144   \n",
       "\n",
       "     life_post_impression_liked  life_post_reach_liked  comment  like  share  \n",
       "0                          3519                   2124        0    62     10  \n",
       "1                          4935                   2556       16   117     30  \n",
       "2                          2154                   1120        0     0      0  \n",
       "3                         22100                  10880       20   411     74  \n",
       "4                          2541                   1435        2    64      7  \n",
       "..                          ...                    ...      ...   ...    ...  \n",
       "395                        4607                   2862        1    63     26  \n",
       "396                       19738                  13656      103   469     33  \n",
       "397                       25584                  14920       36    98     14  \n",
       "398                       27771                  14848        4   104     10  \n",
       "399                        3586                   2148        1    58     13  \n",
       "\n",
       "[400 rows x 9 columns]"
      ]
     },
     "execution_count": 533,
     "metadata": {},
     "output_type": "execute_result"
    }
   ],
   "source": [
    "train_numerical"
   ]
  },
  {
   "cell_type": "code",
   "execution_count": 534,
   "metadata": {
    "scrolled": false
   },
   "outputs": [],
   "source": [
    "#Paid is binary\n",
    "train_numerical = train_numerical.loc[:,train_numerical.columns !='Paid']"
   ]
  },
  {
   "cell_type": "code",
   "execution_count": 535,
   "metadata": {},
   "outputs": [],
   "source": [
    "case3B_scaler = preprocessing.StandardScaler().fit(train_numerical.loc[:,train_numerical.columns !='life_post_consumer'])"
   ]
  },
  {
   "cell_type": "code",
   "execution_count": 536,
   "metadata": {},
   "outputs": [],
   "source": [
    "case3B_train_numerical = case3B_scaler.transform(train_numerical.loc[:,train_numerical.columns !='life_post_consumer'])"
   ]
  },
  {
   "cell_type": "code",
   "execution_count": 537,
   "metadata": {},
   "outputs": [],
   "source": [
    "# turns back into a dataframe and add back column headers \n",
    "case3B_train_numerical = pd.DataFrame(case3B_train_numerical, columns = train_numerical.loc[:,train_numerical.columns !='life_post_consumer'].columns)"
   ]
  },
  {
   "cell_type": "code",
   "execution_count": 538,
   "metadata": {
    "scrolled": true
   },
   "outputs": [],
   "source": [
    "case3B_train = train.copy()\n",
    "case3B_train.update(pd.DataFrame(case3B_train_numerical))\n",
    "case3B_train_y = train['life_post_consumer'] - train['life_post_consumer'].mean()"
   ]
  },
  {
   "cell_type": "code",
   "execution_count": 539,
   "metadata": {},
   "outputs": [],
   "source": [
    "case3B_train = case3B_train.loc[:,case3B_train.columns != 'life_post_consumer']"
   ]
  },
  {
   "cell_type": "code",
   "execution_count": 540,
   "metadata": {},
   "outputs": [],
   "source": [
    "case3B_label = testlabel"
   ]
  },
  {
   "cell_type": "code",
   "execution_count": 541,
   "metadata": {},
   "outputs": [],
   "source": [
    "#test data also have to be standardized based on train features"
   ]
  },
  {
   "cell_type": "code",
   "execution_count": 542,
   "metadata": {},
   "outputs": [],
   "source": [
    "#get all numerical columns\n",
    "test_numerical = test[test.columns[0:8]]"
   ]
  },
  {
   "cell_type": "code",
   "execution_count": 543,
   "metadata": {
    "scrolled": false
   },
   "outputs": [],
   "source": [
    "#Paid is binary\n",
    "test_numerical = test_numerical.loc[:,test_numerical.columns !='Paid']"
   ]
  },
  {
   "cell_type": "code",
   "execution_count": 544,
   "metadata": {},
   "outputs": [],
   "source": [
    "case3B_test_numerical = case3B_scaler.transform(test_numerical.loc[:,test_numerical.columns !='life_post_consumer'])"
   ]
  },
  {
   "cell_type": "code",
   "execution_count": 545,
   "metadata": {},
   "outputs": [],
   "source": [
    "# turns back into a dataframe and add back column headers \n",
    "case3B_test_numerical = pd.DataFrame(case3B_test_numerical, columns = test_numerical.loc[:,test_numerical.columns !='life_post_consumer'].columns)"
   ]
  },
  {
   "cell_type": "code",
   "execution_count": 546,
   "metadata": {
    "scrolled": true
   },
   "outputs": [],
   "source": [
    "case3B_test = test.copy()\n",
    "case3B_test.update(pd.DataFrame(case3B_test_numerical))"
   ]
  },
  {
   "cell_type": "code",
   "execution_count": 547,
   "metadata": {},
   "outputs": [
    {
     "data": {
      "text/html": [
       "<div>\n",
       "<style scoped>\n",
       "    .dataframe tbody tr th:only-of-type {\n",
       "        vertical-align: middle;\n",
       "    }\n",
       "\n",
       "    .dataframe tbody tr th {\n",
       "        vertical-align: top;\n",
       "    }\n",
       "\n",
       "    .dataframe thead th {\n",
       "        text-align: right;\n",
       "    }\n",
       "</style>\n",
       "<table border=\"1\" class=\"dataframe\">\n",
       "  <thead>\n",
       "    <tr style=\"text-align: right;\">\n",
       "      <th></th>\n",
       "      <th>comp_page_like</th>\n",
       "      <th>Paid</th>\n",
       "      <th>life_post_reach</th>\n",
       "      <th>life_post_impression_liked</th>\n",
       "      <th>life_post_reach_liked</th>\n",
       "      <th>comment</th>\n",
       "      <th>like</th>\n",
       "      <th>share</th>\n",
       "      <th>type_link</th>\n",
       "      <th>type_status</th>\n",
       "      <th>...</th>\n",
       "      <th>hour5</th>\n",
       "      <th>hour6</th>\n",
       "      <th>hour7</th>\n",
       "      <th>hour8</th>\n",
       "      <th>hour9</th>\n",
       "      <th>hour10</th>\n",
       "      <th>hour11</th>\n",
       "      <th>hour12</th>\n",
       "      <th>hour13</th>\n",
       "      <th>hour14</th>\n",
       "    </tr>\n",
       "  </thead>\n",
       "  <tbody>\n",
       "    <tr>\n",
       "      <td>0</td>\n",
       "      <td>0.167369</td>\n",
       "      <td>0</td>\n",
       "      <td>-0.522485</td>\n",
       "      <td>-0.211290</td>\n",
       "      <td>-0.587894</td>\n",
       "      <td>-0.476554</td>\n",
       "      <td>-0.440910</td>\n",
       "      <td>-0.597558</td>\n",
       "      <td>0</td>\n",
       "      <td>0</td>\n",
       "      <td>...</td>\n",
       "      <td>0</td>\n",
       "      <td>0</td>\n",
       "      <td>0</td>\n",
       "      <td>0</td>\n",
       "      <td>0</td>\n",
       "      <td>0</td>\n",
       "      <td>0</td>\n",
       "      <td>0</td>\n",
       "      <td>0</td>\n",
       "      <td>0</td>\n",
       "    </tr>\n",
       "    <tr>\n",
       "      <td>1</td>\n",
       "      <td>0.787796</td>\n",
       "      <td>0</td>\n",
       "      <td>-0.473877</td>\n",
       "      <td>-0.189856</td>\n",
       "      <td>-0.530975</td>\n",
       "      <td>0.635754</td>\n",
       "      <td>-0.214428</td>\n",
       "      <td>0.174232</td>\n",
       "      <td>0</td>\n",
       "      <td>0</td>\n",
       "      <td>...</td>\n",
       "      <td>0</td>\n",
       "      <td>0</td>\n",
       "      <td>0</td>\n",
       "      <td>0</td>\n",
       "      <td>0</td>\n",
       "      <td>0</td>\n",
       "      <td>1</td>\n",
       "      <td>0</td>\n",
       "      <td>0</td>\n",
       "      <td>0</td>\n",
       "    </tr>\n",
       "    <tr>\n",
       "      <td>2</td>\n",
       "      <td>0.868978</td>\n",
       "      <td>1</td>\n",
       "      <td>-0.591308</td>\n",
       "      <td>-0.231953</td>\n",
       "      <td>-0.720178</td>\n",
       "      <td>-0.476554</td>\n",
       "      <td>-0.696218</td>\n",
       "      <td>-0.983453</td>\n",
       "      <td>0</td>\n",
       "      <td>0</td>\n",
       "      <td>...</td>\n",
       "      <td>0</td>\n",
       "      <td>0</td>\n",
       "      <td>0</td>\n",
       "      <td>0</td>\n",
       "      <td>1</td>\n",
       "      <td>0</td>\n",
       "      <td>0</td>\n",
       "      <td>0</td>\n",
       "      <td>0</td>\n",
       "      <td>0</td>\n",
       "    </tr>\n",
       "    <tr>\n",
       "      <td>3</td>\n",
       "      <td>0.922669</td>\n",
       "      <td>1</td>\n",
       "      <td>1.171820</td>\n",
       "      <td>0.069974</td>\n",
       "      <td>0.565771</td>\n",
       "      <td>0.913831</td>\n",
       "      <td>0.996225</td>\n",
       "      <td>1.872169</td>\n",
       "      <td>0</td>\n",
       "      <td>0</td>\n",
       "      <td>...</td>\n",
       "      <td>0</td>\n",
       "      <td>0</td>\n",
       "      <td>0</td>\n",
       "      <td>0</td>\n",
       "      <td>0</td>\n",
       "      <td>0</td>\n",
       "      <td>0</td>\n",
       "      <td>0</td>\n",
       "      <td>0</td>\n",
       "      <td>0</td>\n",
       "    </tr>\n",
       "    <tr>\n",
       "      <td>4</td>\n",
       "      <td>0.658274</td>\n",
       "      <td>0</td>\n",
       "      <td>-0.569183</td>\n",
       "      <td>-0.226095</td>\n",
       "      <td>-0.678675</td>\n",
       "      <td>-0.337516</td>\n",
       "      <td>-0.432674</td>\n",
       "      <td>-0.713327</td>\n",
       "      <td>0</td>\n",
       "      <td>0</td>\n",
       "      <td>...</td>\n",
       "      <td>0</td>\n",
       "      <td>0</td>\n",
       "      <td>0</td>\n",
       "      <td>1</td>\n",
       "      <td>0</td>\n",
       "      <td>0</td>\n",
       "      <td>0</td>\n",
       "      <td>0</td>\n",
       "      <td>0</td>\n",
       "      <td>0</td>\n",
       "    </tr>\n",
       "    <tr>\n",
       "      <td>...</td>\n",
       "      <td>...</td>\n",
       "      <td>...</td>\n",
       "      <td>...</td>\n",
       "      <td>...</td>\n",
       "      <td>...</td>\n",
       "      <td>...</td>\n",
       "      <td>...</td>\n",
       "      <td>...</td>\n",
       "      <td>...</td>\n",
       "      <td>...</td>\n",
       "      <td>...</td>\n",
       "      <td>...</td>\n",
       "      <td>...</td>\n",
       "      <td>...</td>\n",
       "      <td>...</td>\n",
       "      <td>...</td>\n",
       "      <td>...</td>\n",
       "      <td>...</td>\n",
       "      <td>...</td>\n",
       "      <td>...</td>\n",
       "      <td>...</td>\n",
       "    </tr>\n",
       "    <tr>\n",
       "      <td>395</td>\n",
       "      <td>-0.921516</td>\n",
       "      <td>0</td>\n",
       "      <td>-0.442843</td>\n",
       "      <td>-0.194821</td>\n",
       "      <td>-0.490657</td>\n",
       "      <td>-0.407035</td>\n",
       "      <td>-0.436792</td>\n",
       "      <td>0.019874</td>\n",
       "      <td>0</td>\n",
       "      <td>0</td>\n",
       "      <td>...</td>\n",
       "      <td>0</td>\n",
       "      <td>0</td>\n",
       "      <td>0</td>\n",
       "      <td>0</td>\n",
       "      <td>0</td>\n",
       "      <td>1</td>\n",
       "      <td>0</td>\n",
       "      <td>0</td>\n",
       "      <td>0</td>\n",
       "      <td>0</td>\n",
       "    </tr>\n",
       "    <tr>\n",
       "      <td>396</td>\n",
       "      <td>0.199903</td>\n",
       "      <td>0</td>\n",
       "      <td>0.365125</td>\n",
       "      <td>0.034220</td>\n",
       "      <td>0.931529</td>\n",
       "      <td>6.683928</td>\n",
       "      <td>1.235061</td>\n",
       "      <td>0.290000</td>\n",
       "      <td>0</td>\n",
       "      <td>0</td>\n",
       "      <td>...</td>\n",
       "      <td>0</td>\n",
       "      <td>0</td>\n",
       "      <td>0</td>\n",
       "      <td>0</td>\n",
       "      <td>0</td>\n",
       "      <td>0</td>\n",
       "      <td>0</td>\n",
       "      <td>1</td>\n",
       "      <td>0</td>\n",
       "      <td>0</td>\n",
       "    </tr>\n",
       "    <tr>\n",
       "      <td>397</td>\n",
       "      <td>0.217308</td>\n",
       "      <td>0</td>\n",
       "      <td>0.239030</td>\n",
       "      <td>0.122712</td>\n",
       "      <td>1.098070</td>\n",
       "      <td>2.026139</td>\n",
       "      <td>-0.292667</td>\n",
       "      <td>-0.443200</td>\n",
       "      <td>0</td>\n",
       "      <td>1</td>\n",
       "      <td>...</td>\n",
       "      <td>0</td>\n",
       "      <td>0</td>\n",
       "      <td>0</td>\n",
       "      <td>0</td>\n",
       "      <td>0</td>\n",
       "      <td>0</td>\n",
       "      <td>0</td>\n",
       "      <td>0</td>\n",
       "      <td>1</td>\n",
       "      <td>0</td>\n",
       "    </tr>\n",
       "    <tr>\n",
       "      <td>398</td>\n",
       "      <td>0.412637</td>\n",
       "      <td>1</td>\n",
       "      <td>1.316712</td>\n",
       "      <td>0.155817</td>\n",
       "      <td>1.088583</td>\n",
       "      <td>-0.198477</td>\n",
       "      <td>-0.267960</td>\n",
       "      <td>-0.597558</td>\n",
       "      <td>0</td>\n",
       "      <td>0</td>\n",
       "      <td>...</td>\n",
       "      <td>0</td>\n",
       "      <td>0</td>\n",
       "      <td>0</td>\n",
       "      <td>0</td>\n",
       "      <td>0</td>\n",
       "      <td>0</td>\n",
       "      <td>0</td>\n",
       "      <td>0</td>\n",
       "      <td>1</td>\n",
       "      <td>0</td>\n",
       "    </tr>\n",
       "    <tr>\n",
       "      <td>399</td>\n",
       "      <td>-0.315295</td>\n",
       "      <td>0</td>\n",
       "      <td>-0.503835</td>\n",
       "      <td>-0.210276</td>\n",
       "      <td>-0.584732</td>\n",
       "      <td>-0.407035</td>\n",
       "      <td>-0.457382</td>\n",
       "      <td>-0.481790</td>\n",
       "      <td>0</td>\n",
       "      <td>0</td>\n",
       "      <td>...</td>\n",
       "      <td>0</td>\n",
       "      <td>0</td>\n",
       "      <td>0</td>\n",
       "      <td>0</td>\n",
       "      <td>0</td>\n",
       "      <td>0</td>\n",
       "      <td>0</td>\n",
       "      <td>0</td>\n",
       "      <td>1</td>\n",
       "      <td>0</td>\n",
       "    </tr>\n",
       "  </tbody>\n",
       "</table>\n",
       "<p>400 rows × 43 columns</p>\n",
       "</div>"
      ],
      "text/plain": [
       "     comp_page_like  Paid  life_post_reach  life_post_impression_liked  \\\n",
       "0          0.167369     0        -0.522485                   -0.211290   \n",
       "1          0.787796     0        -0.473877                   -0.189856   \n",
       "2          0.868978     1        -0.591308                   -0.231953   \n",
       "3          0.922669     1         1.171820                    0.069974   \n",
       "4          0.658274     0        -0.569183                   -0.226095   \n",
       "..              ...   ...              ...                         ...   \n",
       "395       -0.921516     0        -0.442843                   -0.194821   \n",
       "396        0.199903     0         0.365125                    0.034220   \n",
       "397        0.217308     0         0.239030                    0.122712   \n",
       "398        0.412637     1         1.316712                    0.155817   \n",
       "399       -0.315295     0        -0.503835                   -0.210276   \n",
       "\n",
       "     life_post_reach_liked   comment      like     share  type_link  \\\n",
       "0                -0.587894 -0.476554 -0.440910 -0.597558          0   \n",
       "1                -0.530975  0.635754 -0.214428  0.174232          0   \n",
       "2                -0.720178 -0.476554 -0.696218 -0.983453          0   \n",
       "3                 0.565771  0.913831  0.996225  1.872169          0   \n",
       "4                -0.678675 -0.337516 -0.432674 -0.713327          0   \n",
       "..                     ...       ...       ...       ...        ...   \n",
       "395              -0.490657 -0.407035 -0.436792  0.019874          0   \n",
       "396               0.931529  6.683928  1.235061  0.290000          0   \n",
       "397               1.098070  2.026139 -0.292667 -0.443200          0   \n",
       "398               1.088583 -0.198477 -0.267960 -0.597558          0   \n",
       "399              -0.584732 -0.407035 -0.457382 -0.481790          0   \n",
       "\n",
       "     type_status  ...  hour5  hour6  hour7  hour8  hour9  hour10  hour11  \\\n",
       "0              0  ...      0      0      0      0      0       0       0   \n",
       "1              0  ...      0      0      0      0      0       0       1   \n",
       "2              0  ...      0      0      0      0      1       0       0   \n",
       "3              0  ...      0      0      0      0      0       0       0   \n",
       "4              0  ...      0      0      0      1      0       0       0   \n",
       "..           ...  ...    ...    ...    ...    ...    ...     ...     ...   \n",
       "395            0  ...      0      0      0      0      0       1       0   \n",
       "396            0  ...      0      0      0      0      0       0       0   \n",
       "397            1  ...      0      0      0      0      0       0       0   \n",
       "398            0  ...      0      0      0      0      0       0       0   \n",
       "399            0  ...      0      0      0      0      0       0       0   \n",
       "\n",
       "     hour12  hour13  hour14  \n",
       "0         0       0       0  \n",
       "1         0       0       0  \n",
       "2         0       0       0  \n",
       "3         0       0       0  \n",
       "4         0       0       0  \n",
       "..      ...     ...     ...  \n",
       "395       0       0       0  \n",
       "396       1       0       0  \n",
       "397       0       1       0  \n",
       "398       0       1       0  \n",
       "399       0       1       0  \n",
       "\n",
       "[400 rows x 43 columns]"
      ]
     },
     "execution_count": 547,
     "metadata": {},
     "output_type": "execute_result"
    }
   ],
   "source": [
    "case3B_train"
   ]
  },
  {
   "cell_type": "code",
   "execution_count": 548,
   "metadata": {
    "scrolled": true
   },
   "outputs": [],
   "source": [
    "list_of_case3B_rmse = []\n",
    "# regularization coefficient tuning\n",
    "def tune_ridge_alpha(alpha):\n",
    "    case3B = Ridge(alpha).fit(case3B_train, case3B_train_y)\n",
    "    case3B_predict = case3B.predict(case3B_test)\n",
    "    #add back the mean of y train\n",
    "    case3B_predict += train['life_post_consumer'].mean()\n",
    "    case3B_rmse = sqrt(mean_squared_error(case3B_label,case3B_predict))\n",
    "    list_of_case3B_rmse.append(case3B_rmse)\n",
    "    return case3B_predict"
   ]
  },
  {
   "cell_type": "code",
   "execution_count": 549,
   "metadata": {},
   "outputs": [],
   "source": [
    "for alpha in [0.01, 0.1, 1, 5, 10, 20, 50, 100, 500, 1000]:\n",
    "    tune_ridge_alpha(alpha)"
   ]
  },
  {
   "cell_type": "code",
   "execution_count": 550,
   "metadata": {
    "scrolled": true
   },
   "outputs": [
    {
     "data": {
      "text/plain": [
       "[691.7304747036968,\n",
       " 690.3052303627674,\n",
       " 681.8131356980052,\n",
       " 657.246897257644,\n",
       " 646.3608224506861,\n",
       " 645.5168123938737,\n",
       " 666.5003100788468,\n",
       " 692.0599326959293,\n",
       " 752.843210942966,\n",
       " 785.4978029227881]"
      ]
     },
     "execution_count": 550,
     "metadata": {},
     "output_type": "execute_result"
    }
   ],
   "source": [
    "list_of_case3B_rmse"
   ]
  },
  {
   "cell_type": "code",
   "execution_count": 551,
   "metadata": {},
   "outputs": [
    {
     "data": {
      "image/png": "[encoded data removed]",
      "text/plain": [
       "<Figure size 432x288 with 1 Axes>"
      ]
     },
     "metadata": {
      "needs_background": "light"
     },
     "output_type": "display_data"
    }
   ],
   "source": [
    "# plot alpha against rmse\n",
    "x = np.arange(10)\n",
    "y = list_of_case3B_rmse\n",
    "my_xticks = [0.01, 0.1, 1, 5, 10, 20, 50, 100, 500, 1000]\n",
    "plt.xticks(x, my_xticks)\n",
    "plt.plot(x, y)\n",
    "plt.show()"
   ]
  },
  {
   "cell_type": "code",
   "execution_count": 552,
   "metadata": {},
   "outputs": [
    {
     "data": {
      "text/plain": [
       "645.5168123938737"
      ]
     },
     "execution_count": 552,
     "metadata": {},
     "output_type": "execute_result"
    }
   ],
   "source": [
    "# best test RMSE is on alpha = 20\n",
    "# RMSE is 645.5168123938737\n",
    "min(list_of_case3B_rmse)"
   ]
  },
  {
   "cell_type": "code",
   "execution_count": 553,
   "metadata": {},
   "outputs": [],
   "source": [
    "# fit a ridge regression using best alpha\n",
    "case3B_predict = tune_ridge_alpha(20)\n",
    "#prediction from best alpha"
   ]
  },
  {
   "cell_type": "code",
   "execution_count": 554,
   "metadata": {
    "scrolled": true
   },
   "outputs": [
    {
     "data": {
      "text/html": [
       "<div>\n",
       "<style scoped>\n",
       "    .dataframe tbody tr th:only-of-type {\n",
       "        vertical-align: middle;\n",
       "    }\n",
       "\n",
       "    .dataframe tbody tr th {\n",
       "        vertical-align: top;\n",
       "    }\n",
       "\n",
       "    .dataframe thead th {\n",
       "        text-align: right;\n",
       "    }\n",
       "</style>\n",
       "<table border=\"1\" class=\"dataframe\">\n",
       "  <thead>\n",
       "    <tr style=\"text-align: right;\">\n",
       "      <th></th>\n",
       "      <th>predict</th>\n",
       "      <th>label</th>\n",
       "    </tr>\n",
       "  </thead>\n",
       "  <tbody>\n",
       "    <tr>\n",
       "      <td>0</td>\n",
       "      <td>1142.269542</td>\n",
       "      <td>1183</td>\n",
       "    </tr>\n",
       "    <tr>\n",
       "      <td>1</td>\n",
       "      <td>254.157015</td>\n",
       "      <td>189</td>\n",
       "    </tr>\n",
       "    <tr>\n",
       "      <td>2</td>\n",
       "      <td>1834.024889</td>\n",
       "      <td>2327</td>\n",
       "    </tr>\n",
       "    <tr>\n",
       "      <td>3</td>\n",
       "      <td>15.718169</td>\n",
       "      <td>76</td>\n",
       "    </tr>\n",
       "    <tr>\n",
       "      <td>4</td>\n",
       "      <td>599.763663</td>\n",
       "      <td>354</td>\n",
       "    </tr>\n",
       "    <tr>\n",
       "      <td>5</td>\n",
       "      <td>635.940390</td>\n",
       "      <td>713</td>\n",
       "    </tr>\n",
       "    <tr>\n",
       "      <td>6</td>\n",
       "      <td>427.856444</td>\n",
       "      <td>204</td>\n",
       "    </tr>\n",
       "    <tr>\n",
       "      <td>7</td>\n",
       "      <td>603.662060</td>\n",
       "      <td>288</td>\n",
       "    </tr>\n",
       "    <tr>\n",
       "      <td>8</td>\n",
       "      <td>514.523788</td>\n",
       "      <td>555</td>\n",
       "    </tr>\n",
       "    <tr>\n",
       "      <td>9</td>\n",
       "      <td>580.001060</td>\n",
       "      <td>586</td>\n",
       "    </tr>\n",
       "    <tr>\n",
       "      <td>10</td>\n",
       "      <td>544.341760</td>\n",
       "      <td>446</td>\n",
       "    </tr>\n",
       "    <tr>\n",
       "      <td>11</td>\n",
       "      <td>477.184421</td>\n",
       "      <td>884</td>\n",
       "    </tr>\n",
       "    <tr>\n",
       "      <td>12</td>\n",
       "      <td>801.545545</td>\n",
       "      <td>524</td>\n",
       "    </tr>\n",
       "    <tr>\n",
       "      <td>13</td>\n",
       "      <td>557.452872</td>\n",
       "      <td>672</td>\n",
       "    </tr>\n",
       "    <tr>\n",
       "      <td>14</td>\n",
       "      <td>396.278865</td>\n",
       "      <td>23</td>\n",
       "    </tr>\n",
       "    <tr>\n",
       "      <td>15</td>\n",
       "      <td>615.151524</td>\n",
       "      <td>570</td>\n",
       "    </tr>\n",
       "    <tr>\n",
       "      <td>16</td>\n",
       "      <td>1474.674174</td>\n",
       "      <td>1361</td>\n",
       "    </tr>\n",
       "    <tr>\n",
       "      <td>17</td>\n",
       "      <td>2504.864373</td>\n",
       "      <td>5934</td>\n",
       "    </tr>\n",
       "    <tr>\n",
       "      <td>18</td>\n",
       "      <td>3524.859645</td>\n",
       "      <td>2319</td>\n",
       "    </tr>\n",
       "    <tr>\n",
       "      <td>19</td>\n",
       "      <td>3438.403437</td>\n",
       "      <td>1633</td>\n",
       "    </tr>\n",
       "  </tbody>\n",
       "</table>\n",
       "</div>"
      ],
      "text/plain": [
       "        predict  label\n",
       "0   1142.269542   1183\n",
       "1    254.157015    189\n",
       "2   1834.024889   2327\n",
       "3     15.718169     76\n",
       "4    599.763663    354\n",
       "5    635.940390    713\n",
       "6    427.856444    204\n",
       "7    603.662060    288\n",
       "8    514.523788    555\n",
       "9    580.001060    586\n",
       "10   544.341760    446\n",
       "11   477.184421    884\n",
       "12   801.545545    524\n",
       "13   557.452872    672\n",
       "14   396.278865     23\n",
       "15   615.151524    570\n",
       "16  1474.674174   1361\n",
       "17  2504.864373   5934\n",
       "18  3524.859645   2319\n",
       "19  3438.403437   1633"
      ]
     },
     "execution_count": 554,
     "metadata": {},
     "output_type": "execute_result"
    }
   ],
   "source": [
    "#top 20 prediction and label from this model\n",
    "pd.DataFrame({'predict': case3B_predict[:20], 'label' : case3B_label['life_post_consumer'][:20]})"
   ]
  },
  {
   "cell_type": "code",
   "execution_count": null,
   "metadata": {},
   "outputs": [],
   "source": []
  },
  {
   "cell_type": "markdown",
   "metadata": {},
   "source": [
    "# Q8 (case3C) Ridge Regression with only y de-mean"
   ]
  },
  {
   "cell_type": "code",
   "execution_count": 411,
   "metadata": {},
   "outputs": [],
   "source": [
    "#Construct a ridge regression from sklearn\n",
    "from sklearn.linear_model import Ridge"
   ]
  },
  {
   "cell_type": "code",
   "execution_count": 412,
   "metadata": {
    "scrolled": true
   },
   "outputs": [],
   "source": [
    "case3C_train = train.loc[:,train.columns != 'life_post_consumer']\n",
    "case3C_train_y = train['life_post_consumer'] - train['life_post_consumer'].mean()"
   ]
  },
  {
   "cell_type": "code",
   "execution_count": 413,
   "metadata": {},
   "outputs": [],
   "source": [
    "case3C_label = testlabel"
   ]
  },
  {
   "cell_type": "code",
   "execution_count": 414,
   "metadata": {
    "scrolled": true
   },
   "outputs": [],
   "source": [
    "list_of_case3C_rmse = []\n",
    "# regularization coefficient tuning\n",
    "def tune_ridge_alpha(alpha):\n",
    "    case3C = Ridge(alpha).fit(case3C_train, case3C_train_y)\n",
    "    case3C_predict = case3C.predict(test)\n",
    "    #add back the mean of y train\n",
    "    case3C_predict += train['life_post_consumer'].mean()\n",
    "    case3C_rmse = sqrt(mean_squared_error(case3C_label,case3C_predict))\n",
    "    list_of_case3C_rmse.append(case3C_rmse)\n",
    "    return case3C_predict"
   ]
  },
  {
   "cell_type": "code",
   "execution_count": 415,
   "metadata": {},
   "outputs": [],
   "source": [
    "for alpha in [0.01, 0.1, 1, 5, 10, 20, 50, 100, 500, 1000]:\n",
    "    tune_ridge_alpha(alpha)"
   ]
  },
  {
   "cell_type": "code",
   "execution_count": 416,
   "metadata": {
    "scrolled": true
   },
   "outputs": [
    {
     "data": {
      "text/plain": [
       "[691.7564197164965,\n",
       " 690.4794727071562,\n",
       " 684.0592940464086,\n",
       " 666.3743642523862,\n",
       " 660.5612900111671,\n",
       " 664.8697142964962,\n",
       " 690.4193469387993,\n",
       " 717.128279030616,\n",
       " 763.7089594553057,\n",
       " 773.6019481998379]"
      ]
     },
     "execution_count": 416,
     "metadata": {},
     "output_type": "execute_result"
    }
   ],
   "source": [
    "list_of_case3C_rmse"
   ]
  },
  {
   "cell_type": "code",
   "execution_count": 417,
   "metadata": {},
   "outputs": [
    {
     "data": {
      "image/png": "[encoded data removed]",
      "text/plain": [
       "<Figure size 432x288 with 1 Axes>"
      ]
     },
     "metadata": {
      "needs_background": "light"
     },
     "output_type": "display_data"
    }
   ],
   "source": [
    "# plot alpha against rmse\n",
    "x = np.arange(10)\n",
    "y = list_of_case3C_rmse\n",
    "my_xticks = [0.01, 0.1, 1, 5, 10, 20, 50, 100, 500, 1000]\n",
    "plt.xticks(x, my_xticks)\n",
    "plt.plot(x, y)\n",
    "plt.show()"
   ]
  },
  {
   "cell_type": "code",
   "execution_count": 419,
   "metadata": {},
   "outputs": [
    {
     "data": {
      "text/plain": [
       "660.5612900111671"
      ]
     },
     "execution_count": 419,
     "metadata": {},
     "output_type": "execute_result"
    }
   ],
   "source": [
    "# best test RMSE is on alpha = 10\n",
    "# RMSE is 660.5612900111671   vs case3A:660.5612900111673 almost the same\n",
    "min(list_of_case3C_rmse)"
   ]
  },
  {
   "cell_type": "code",
   "execution_count": 420,
   "metadata": {},
   "outputs": [],
   "source": [
    "# fit a ridge regression using best alpha\n",
    "case3C_predict = tune_ridge_alpha(10)\n",
    "#prediction from best alpha"
   ]
  },
  {
   "cell_type": "code",
   "execution_count": 421,
   "metadata": {},
   "outputs": [
    {
     "data": {
      "text/html": [
       "<div>\n",
       "<style scoped>\n",
       "    .dataframe tbody tr th:only-of-type {\n",
       "        vertical-align: middle;\n",
       "    }\n",
       "\n",
       "    .dataframe tbody tr th {\n",
       "        vertical-align: top;\n",
       "    }\n",
       "\n",
       "    .dataframe thead th {\n",
       "        text-align: right;\n",
       "    }\n",
       "</style>\n",
       "<table border=\"1\" class=\"dataframe\">\n",
       "  <thead>\n",
       "    <tr style=\"text-align: right;\">\n",
       "      <th></th>\n",
       "      <th>predict</th>\n",
       "      <th>label</th>\n",
       "    </tr>\n",
       "  </thead>\n",
       "  <tbody>\n",
       "    <tr>\n",
       "      <td>0</td>\n",
       "      <td>1068.333624</td>\n",
       "      <td>1183</td>\n",
       "    </tr>\n",
       "    <tr>\n",
       "      <td>1</td>\n",
       "      <td>229.755319</td>\n",
       "      <td>189</td>\n",
       "    </tr>\n",
       "    <tr>\n",
       "      <td>2</td>\n",
       "      <td>2008.558892</td>\n",
       "      <td>2327</td>\n",
       "    </tr>\n",
       "    <tr>\n",
       "      <td>3</td>\n",
       "      <td>-102.874899</td>\n",
       "      <td>76</td>\n",
       "    </tr>\n",
       "    <tr>\n",
       "      <td>4</td>\n",
       "      <td>541.457699</td>\n",
       "      <td>354</td>\n",
       "    </tr>\n",
       "    <tr>\n",
       "      <td>5</td>\n",
       "      <td>606.459258</td>\n",
       "      <td>713</td>\n",
       "    </tr>\n",
       "    <tr>\n",
       "      <td>6</td>\n",
       "      <td>414.982798</td>\n",
       "      <td>204</td>\n",
       "    </tr>\n",
       "    <tr>\n",
       "      <td>7</td>\n",
       "      <td>602.810514</td>\n",
       "      <td>288</td>\n",
       "    </tr>\n",
       "    <tr>\n",
       "      <td>8</td>\n",
       "      <td>500.184385</td>\n",
       "      <td>555</td>\n",
       "    </tr>\n",
       "    <tr>\n",
       "      <td>9</td>\n",
       "      <td>492.306636</td>\n",
       "      <td>586</td>\n",
       "    </tr>\n",
       "    <tr>\n",
       "      <td>10</td>\n",
       "      <td>508.376500</td>\n",
       "      <td>446</td>\n",
       "    </tr>\n",
       "    <tr>\n",
       "      <td>11</td>\n",
       "      <td>409.130022</td>\n",
       "      <td>884</td>\n",
       "    </tr>\n",
       "    <tr>\n",
       "      <td>12</td>\n",
       "      <td>730.467680</td>\n",
       "      <td>524</td>\n",
       "    </tr>\n",
       "    <tr>\n",
       "      <td>13</td>\n",
       "      <td>561.060328</td>\n",
       "      <td>672</td>\n",
       "    </tr>\n",
       "    <tr>\n",
       "      <td>14</td>\n",
       "      <td>294.450897</td>\n",
       "      <td>23</td>\n",
       "    </tr>\n",
       "    <tr>\n",
       "      <td>15</td>\n",
       "      <td>602.482867</td>\n",
       "      <td>570</td>\n",
       "    </tr>\n",
       "    <tr>\n",
       "      <td>16</td>\n",
       "      <td>1632.182715</td>\n",
       "      <td>1361</td>\n",
       "    </tr>\n",
       "    <tr>\n",
       "      <td>17</td>\n",
       "      <td>2698.882818</td>\n",
       "      <td>5934</td>\n",
       "    </tr>\n",
       "    <tr>\n",
       "      <td>18</td>\n",
       "      <td>3841.631528</td>\n",
       "      <td>2319</td>\n",
       "    </tr>\n",
       "    <tr>\n",
       "      <td>19</td>\n",
       "      <td>3892.400909</td>\n",
       "      <td>1633</td>\n",
       "    </tr>\n",
       "  </tbody>\n",
       "</table>\n",
       "</div>"
      ],
      "text/plain": [
       "        predict  label\n",
       "0   1068.333624   1183\n",
       "1    229.755319    189\n",
       "2   2008.558892   2327\n",
       "3   -102.874899     76\n",
       "4    541.457699    354\n",
       "5    606.459258    713\n",
       "6    414.982798    204\n",
       "7    602.810514    288\n",
       "8    500.184385    555\n",
       "9    492.306636    586\n",
       "10   508.376500    446\n",
       "11   409.130022    884\n",
       "12   730.467680    524\n",
       "13   561.060328    672\n",
       "14   294.450897     23\n",
       "15   602.482867    570\n",
       "16  1632.182715   1361\n",
       "17  2698.882818   5934\n",
       "18  3841.631528   2319\n",
       "19  3892.400909   1633"
      ]
     },
     "execution_count": 421,
     "metadata": {},
     "output_type": "execute_result"
    }
   ],
   "source": [
    "#top 20 prediction and label from this model\n",
    "pd.DataFrame({'predict': case3C_predict[:20], 'label' : case3C_label['life_post_consumer'][:20]})"
   ]
  },
  {
   "cell_type": "code",
   "execution_count": null,
   "metadata": {},
   "outputs": [],
   "source": []
  },
  {
   "cell_type": "markdown",
   "metadata": {},
   "source": [
    "# Q9 (case3D) Ridge Regression with all features standardized and y de-mean"
   ]
  },
  {
   "cell_type": "code",
   "execution_count": 555,
   "metadata": {},
   "outputs": [],
   "source": [
    "#Construct a ridge regression from sklearn\n",
    "from sklearn.linear_model import Ridge"
   ]
  },
  {
   "cell_type": "code",
   "execution_count": 556,
   "metadata": {},
   "outputs": [],
   "source": [
    "# Standardizing features\n",
    "from sklearn import preprocessing"
   ]
  },
  {
   "cell_type": "code",
   "execution_count": 557,
   "metadata": {},
   "outputs": [],
   "source": [
    "case3D_scaler = preprocessing.StandardScaler().fit(train.loc[:,train.columns !='life_post_consumer'])"
   ]
  },
  {
   "cell_type": "code",
   "execution_count": 570,
   "metadata": {},
   "outputs": [],
   "source": [
    "case3D_train = pd.DataFrame(case3D_train, columns = train.loc[:,train.columns !='life_post_consumer'].columns)"
   ]
  },
  {
   "cell_type": "code",
   "execution_count": 572,
   "metadata": {
    "scrolled": true
   },
   "outputs": [],
   "source": [
    "case3D_train_y = train['life_post_consumer'] - train['life_post_consumer'].mean()"
   ]
  },
  {
   "cell_type": "code",
   "execution_count": 573,
   "metadata": {},
   "outputs": [],
   "source": [
    "case3D_label = testlabel"
   ]
  },
  {
   "cell_type": "code",
   "execution_count": 574,
   "metadata": {
    "scrolled": true
   },
   "outputs": [],
   "source": [
    "case3D_test = case3D_scaler.transform(test)"
   ]
  },
  {
   "cell_type": "code",
   "execution_count": 575,
   "metadata": {
    "scrolled": true
   },
   "outputs": [],
   "source": [
    "list_of_case3D_rmse = []\n",
    "# regularization coefficient tuning\n",
    "def tune_ridge_alpha(alpha):\n",
    "    case3D = Ridge(alpha).fit(case3D_train, case3D_train_y)\n",
    "    case3D_predict = case3D.predict(case3D_test)\n",
    "    #add back the mean of y train\n",
    "    case3D_predict += train['life_post_consumer'].mean()\n",
    "    case3D_rmse = sqrt(mean_squared_error(case3D_label,case3D_predict))\n",
    "    list_of_case3D_rmse.append(case3D_rmse)\n",
    "    return case3D_predict"
   ]
  },
  {
   "cell_type": "code",
   "execution_count": 576,
   "metadata": {},
   "outputs": [],
   "source": [
    "for alpha in [0.01, 0.1, 1, 5, 10, 20, 50, 100, 500, 1000]:\n",
    "    tune_ridge_alpha(alpha)"
   ]
  },
  {
   "cell_type": "code",
   "execution_count": 577,
   "metadata": {
    "scrolled": true
   },
   "outputs": [
    {
     "data": {
      "text/plain": [
       "[692.208764065577,\n",
       " 691.5858824497669,\n",
       " 688.6097668298785,\n",
       " 678.530595209779,\n",
       " 666.4517811295046,\n",
       " 646.6515060786201,\n",
       " 611.0884912149864,\n",
       " 588.793465752767,\n",
       " 636.3128466062185,\n",
       " 701.4633991861974]"
      ]
     },
     "execution_count": 577,
     "metadata": {},
     "output_type": "execute_result"
    }
   ],
   "source": [
    "list_of_case3D_rmse"
   ]
  },
  {
   "cell_type": "code",
   "execution_count": 578,
   "metadata": {},
   "outputs": [
    {
     "data": {
      "image/png": "[encoded data removed]",
      "text/plain": [
       "<Figure size 432x288 with 1 Axes>"
      ]
     },
     "metadata": {
      "needs_background": "light"
     },
     "output_type": "display_data"
    }
   ],
   "source": [
    "# plot alpha against rmse\n",
    "x = np.arange(10)\n",
    "y = list_of_case3D_rmse\n",
    "my_xticks = [0.01, 0.1, 1, 5, 10, 20, 50, 100, 500, 1000]\n",
    "plt.xticks(x, my_xticks)\n",
    "plt.plot(x, y)\n",
    "plt.show()"
   ]
  },
  {
   "cell_type": "code",
   "execution_count": 579,
   "metadata": {},
   "outputs": [
    {
     "data": {
      "text/plain": [
       "588.793465752767"
      ]
     },
     "execution_count": 579,
     "metadata": {},
     "output_type": "execute_result"
    }
   ],
   "source": [
    "# best test RMSE is on alpha = 100\n",
    "# RMSE is 588.793465752767 vs case3B: 645.5168123938737\n",
    "min(list_of_case3D_rmse)"
   ]
  },
  {
   "cell_type": "code",
   "execution_count": 580,
   "metadata": {},
   "outputs": [],
   "source": [
    "# fit a ridge regression using best alpha\n",
    "case3D_predict = tune_ridge_alpha(100)\n",
    "#prediction from best alpha"
   ]
  },
  {
   "cell_type": "code",
   "execution_count": 581,
   "metadata": {
    "scrolled": true
   },
   "outputs": [
    {
     "data": {
      "text/html": [
       "<div>\n",
       "<style scoped>\n",
       "    .dataframe tbody tr th:only-of-type {\n",
       "        vertical-align: middle;\n",
       "    }\n",
       "\n",
       "    .dataframe tbody tr th {\n",
       "        vertical-align: top;\n",
       "    }\n",
       "\n",
       "    .dataframe thead th {\n",
       "        text-align: right;\n",
       "    }\n",
       "</style>\n",
       "<table border=\"1\" class=\"dataframe\">\n",
       "  <thead>\n",
       "    <tr style=\"text-align: right;\">\n",
       "      <th></th>\n",
       "      <th>predict</th>\n",
       "      <th>label</th>\n",
       "    </tr>\n",
       "  </thead>\n",
       "  <tbody>\n",
       "    <tr>\n",
       "      <td>0</td>\n",
       "      <td>1040.500123</td>\n",
       "      <td>1183</td>\n",
       "    </tr>\n",
       "    <tr>\n",
       "      <td>1</td>\n",
       "      <td>278.465050</td>\n",
       "      <td>189</td>\n",
       "    </tr>\n",
       "    <tr>\n",
       "      <td>2</td>\n",
       "      <td>1997.724464</td>\n",
       "      <td>2327</td>\n",
       "    </tr>\n",
       "    <tr>\n",
       "      <td>3</td>\n",
       "      <td>-21.140365</td>\n",
       "      <td>76</td>\n",
       "    </tr>\n",
       "    <tr>\n",
       "      <td>4</td>\n",
       "      <td>554.215257</td>\n",
       "      <td>354</td>\n",
       "    </tr>\n",
       "    <tr>\n",
       "      <td>5</td>\n",
       "      <td>602.840642</td>\n",
       "      <td>713</td>\n",
       "    </tr>\n",
       "    <tr>\n",
       "      <td>6</td>\n",
       "      <td>337.523470</td>\n",
       "      <td>204</td>\n",
       "    </tr>\n",
       "    <tr>\n",
       "      <td>7</td>\n",
       "      <td>599.435785</td>\n",
       "      <td>288</td>\n",
       "    </tr>\n",
       "    <tr>\n",
       "      <td>8</td>\n",
       "      <td>470.293704</td>\n",
       "      <td>555</td>\n",
       "    </tr>\n",
       "    <tr>\n",
       "      <td>9</td>\n",
       "      <td>500.724140</td>\n",
       "      <td>586</td>\n",
       "    </tr>\n",
       "    <tr>\n",
       "      <td>10</td>\n",
       "      <td>511.148619</td>\n",
       "      <td>446</td>\n",
       "    </tr>\n",
       "    <tr>\n",
       "      <td>11</td>\n",
       "      <td>387.743553</td>\n",
       "      <td>884</td>\n",
       "    </tr>\n",
       "    <tr>\n",
       "      <td>12</td>\n",
       "      <td>700.089577</td>\n",
       "      <td>524</td>\n",
       "    </tr>\n",
       "    <tr>\n",
       "      <td>13</td>\n",
       "      <td>532.222810</td>\n",
       "      <td>672</td>\n",
       "    </tr>\n",
       "    <tr>\n",
       "      <td>14</td>\n",
       "      <td>255.183118</td>\n",
       "      <td>23</td>\n",
       "    </tr>\n",
       "    <tr>\n",
       "      <td>15</td>\n",
       "      <td>653.356378</td>\n",
       "      <td>570</td>\n",
       "    </tr>\n",
       "    <tr>\n",
       "      <td>16</td>\n",
       "      <td>1728.169192</td>\n",
       "      <td>1361</td>\n",
       "    </tr>\n",
       "    <tr>\n",
       "      <td>17</td>\n",
       "      <td>2775.002711</td>\n",
       "      <td>5934</td>\n",
       "    </tr>\n",
       "    <tr>\n",
       "      <td>18</td>\n",
       "      <td>3174.792252</td>\n",
       "      <td>2319</td>\n",
       "    </tr>\n",
       "    <tr>\n",
       "      <td>19</td>\n",
       "      <td>3141.857976</td>\n",
       "      <td>1633</td>\n",
       "    </tr>\n",
       "  </tbody>\n",
       "</table>\n",
       "</div>"
      ],
      "text/plain": [
       "        predict  label\n",
       "0   1040.500123   1183\n",
       "1    278.465050    189\n",
       "2   1997.724464   2327\n",
       "3    -21.140365     76\n",
       "4    554.215257    354\n",
       "5    602.840642    713\n",
       "6    337.523470    204\n",
       "7    599.435785    288\n",
       "8    470.293704    555\n",
       "9    500.724140    586\n",
       "10   511.148619    446\n",
       "11   387.743553    884\n",
       "12   700.089577    524\n",
       "13   532.222810    672\n",
       "14   255.183118     23\n",
       "15   653.356378    570\n",
       "16  1728.169192   1361\n",
       "17  2775.002711   5934\n",
       "18  3174.792252   2319\n",
       "19  3141.857976   1633"
      ]
     },
     "execution_count": 581,
     "metadata": {},
     "output_type": "execute_result"
    }
   ],
   "source": [
    "#top 20 prediction and label from this model\n",
    "pd.DataFrame({'predict': case3D_predict[:20], 'label' : case3D_label['life_post_consumer'][:20]})"
   ]
  },
  {
   "cell_type": "code",
   "execution_count": null,
   "metadata": {},
   "outputs": [],
   "source": []
  },
  {
   "cell_type": "code",
   "execution_count": null,
   "metadata": {},
   "outputs": [],
   "source": []
  },
  {
   "cell_type": "markdown",
   "metadata": {},
   "source": [
    "# Q10 (case4) LASSO Regression with numerical features standardized and y de-mean"
   ]
  },
  {
   "cell_type": "code",
   "execution_count": 495,
   "metadata": {},
   "outputs": [],
   "source": [
    "#Construct a ridge regression from sklearn\n",
    "from sklearn.linear_model import Lasso"
   ]
  },
  {
   "cell_type": "code",
   "execution_count": 496,
   "metadata": {},
   "outputs": [],
   "source": [
    "# Standardizing features\n",
    "from sklearn import preprocessing"
   ]
  },
  {
   "cell_type": "code",
   "execution_count": 497,
   "metadata": {},
   "outputs": [],
   "source": [
    "#get all numerical columns\n",
    "train_numerical = train[train.columns[0:9]]"
   ]
  },
  {
   "cell_type": "code",
   "execution_count": 498,
   "metadata": {},
   "outputs": [
    {
     "data": {
      "text/html": [
       "<div>\n",
       "<style scoped>\n",
       "    .dataframe tbody tr th:only-of-type {\n",
       "        vertical-align: middle;\n",
       "    }\n",
       "\n",
       "    .dataframe tbody tr th {\n",
       "        vertical-align: top;\n",
       "    }\n",
       "\n",
       "    .dataframe thead th {\n",
       "        text-align: right;\n",
       "    }\n",
       "</style>\n",
       "<table border=\"1\" class=\"dataframe\">\n",
       "  <thead>\n",
       "    <tr style=\"text-align: right;\">\n",
       "      <th></th>\n",
       "      <th>life_post_consumer</th>\n",
       "      <th>comp_page_like</th>\n",
       "      <th>Paid</th>\n",
       "      <th>life_post_reach</th>\n",
       "      <th>life_post_impression_liked</th>\n",
       "      <th>life_post_reach_liked</th>\n",
       "      <th>comment</th>\n",
       "      <th>like</th>\n",
       "      <th>share</th>\n",
       "    </tr>\n",
       "  </thead>\n",
       "  <tbody>\n",
       "    <tr>\n",
       "      <td>0</td>\n",
       "      <td>523</td>\n",
       "      <td>125612</td>\n",
       "      <td>0</td>\n",
       "      <td>2763</td>\n",
       "      <td>3519</td>\n",
       "      <td>2124</td>\n",
       "      <td>0</td>\n",
       "      <td>62</td>\n",
       "      <td>10</td>\n",
       "    </tr>\n",
       "    <tr>\n",
       "      <td>1</td>\n",
       "      <td>408</td>\n",
       "      <td>135700</td>\n",
       "      <td>0</td>\n",
       "      <td>3756</td>\n",
       "      <td>4935</td>\n",
       "      <td>2556</td>\n",
       "      <td>16</td>\n",
       "      <td>117</td>\n",
       "      <td>30</td>\n",
       "    </tr>\n",
       "    <tr>\n",
       "      <td>2</td>\n",
       "      <td>37</td>\n",
       "      <td>137020</td>\n",
       "      <td>1</td>\n",
       "      <td>1357</td>\n",
       "      <td>2154</td>\n",
       "      <td>1120</td>\n",
       "      <td>0</td>\n",
       "      <td>0</td>\n",
       "      <td>0</td>\n",
       "    </tr>\n",
       "    <tr>\n",
       "      <td>3</td>\n",
       "      <td>808</td>\n",
       "      <td>137893</td>\n",
       "      <td>1</td>\n",
       "      <td>37376</td>\n",
       "      <td>22100</td>\n",
       "      <td>10880</td>\n",
       "      <td>20</td>\n",
       "      <td>411</td>\n",
       "      <td>74</td>\n",
       "    </tr>\n",
       "    <tr>\n",
       "      <td>4</td>\n",
       "      <td>359</td>\n",
       "      <td>133594</td>\n",
       "      <td>0</td>\n",
       "      <td>1809</td>\n",
       "      <td>2541</td>\n",
       "      <td>1435</td>\n",
       "      <td>2</td>\n",
       "      <td>64</td>\n",
       "      <td>7</td>\n",
       "    </tr>\n",
       "    <tr>\n",
       "      <td>...</td>\n",
       "      <td>...</td>\n",
       "      <td>...</td>\n",
       "      <td>...</td>\n",
       "      <td>...</td>\n",
       "      <td>...</td>\n",
       "      <td>...</td>\n",
       "      <td>...</td>\n",
       "      <td>...</td>\n",
       "      <td>...</td>\n",
       "    </tr>\n",
       "    <tr>\n",
       "      <td>395</td>\n",
       "      <td>453</td>\n",
       "      <td>107907</td>\n",
       "      <td>0</td>\n",
       "      <td>4390</td>\n",
       "      <td>4607</td>\n",
       "      <td>2862</td>\n",
       "      <td>1</td>\n",
       "      <td>63</td>\n",
       "      <td>26</td>\n",
       "    </tr>\n",
       "    <tr>\n",
       "      <td>396</td>\n",
       "      <td>1038</td>\n",
       "      <td>126141</td>\n",
       "      <td>0</td>\n",
       "      <td>20896</td>\n",
       "      <td>19738</td>\n",
       "      <td>13656</td>\n",
       "      <td>103</td>\n",
       "      <td>469</td>\n",
       "      <td>33</td>\n",
       "    </tr>\n",
       "    <tr>\n",
       "      <td>397</td>\n",
       "      <td>3682</td>\n",
       "      <td>126424</td>\n",
       "      <td>0</td>\n",
       "      <td>18320</td>\n",
       "      <td>25584</td>\n",
       "      <td>14920</td>\n",
       "      <td>36</td>\n",
       "      <td>98</td>\n",
       "      <td>14</td>\n",
       "    </tr>\n",
       "    <tr>\n",
       "      <td>398</td>\n",
       "      <td>1330</td>\n",
       "      <td>129600</td>\n",
       "      <td>1</td>\n",
       "      <td>40336</td>\n",
       "      <td>27771</td>\n",
       "      <td>14848</td>\n",
       "      <td>4</td>\n",
       "      <td>104</td>\n",
       "      <td>10</td>\n",
       "    </tr>\n",
       "    <tr>\n",
       "      <td>399</td>\n",
       "      <td>356</td>\n",
       "      <td>117764</td>\n",
       "      <td>0</td>\n",
       "      <td>3144</td>\n",
       "      <td>3586</td>\n",
       "      <td>2148</td>\n",
       "      <td>1</td>\n",
       "      <td>58</td>\n",
       "      <td>13</td>\n",
       "    </tr>\n",
       "  </tbody>\n",
       "</table>\n",
       "<p>400 rows × 9 columns</p>\n",
       "</div>"
      ],
      "text/plain": [
       "     life_post_consumer  comp_page_like  Paid  life_post_reach  \\\n",
       "0                   523          125612     0             2763   \n",
       "1                   408          135700     0             3756   \n",
       "2                    37          137020     1             1357   \n",
       "3                   808          137893     1            37376   \n",
       "4                   359          133594     0             1809   \n",
       "..                  ...             ...   ...              ...   \n",
       "395                 453          107907     0             4390   \n",
       "396                1038          126141     0            20896   \n",
       "397                3682          126424     0            18320   \n",
       "398                1330          129600     1            40336   \n",
       "399                 356          117764     0             3144   \n",
       "\n",
       "     life_post_impression_liked  life_post_reach_liked  comment  like  share  \n",
       "0                          3519                   2124        0    62     10  \n",
       "1                          4935                   2556       16   117     30  \n",
       "2                          2154                   1120        0     0      0  \n",
       "3                         22100                  10880       20   411     74  \n",
       "4                          2541                   1435        2    64      7  \n",
       "..                          ...                    ...      ...   ...    ...  \n",
       "395                        4607                   2862        1    63     26  \n",
       "396                       19738                  13656      103   469     33  \n",
       "397                       25584                  14920       36    98     14  \n",
       "398                       27771                  14848        4   104     10  \n",
       "399                        3586                   2148        1    58     13  \n",
       "\n",
       "[400 rows x 9 columns]"
      ]
     },
     "execution_count": 498,
     "metadata": {},
     "output_type": "execute_result"
    }
   ],
   "source": [
    "train_numerical"
   ]
  },
  {
   "cell_type": "code",
   "execution_count": 499,
   "metadata": {
    "scrolled": false
   },
   "outputs": [],
   "source": [
    "#Paid is binary\n",
    "train_numerical = train_numerical.loc[:,train_numerical.columns !='Paid']"
   ]
  },
  {
   "cell_type": "code",
   "execution_count": 500,
   "metadata": {},
   "outputs": [],
   "source": [
    "case4_scaler = preprocessing.StandardScaler().fit(train_numerical.loc[:,train_numerical.columns !='life_post_consumer'])"
   ]
  },
  {
   "cell_type": "code",
   "execution_count": 501,
   "metadata": {},
   "outputs": [],
   "source": [
    "case4_train_numerical = case4_scaler.transform(train_numerical.loc[:,train_numerical.columns !='life_post_consumer'])"
   ]
  },
  {
   "cell_type": "code",
   "execution_count": 502,
   "metadata": {},
   "outputs": [],
   "source": [
    "# turns back into a dataframe and add back column headers \n",
    "case4_train_numerical = pd.DataFrame(case4_train_numerical, columns = train_numerical.loc[:,train_numerical.columns !='life_post_consumer'].columns)"
   ]
  },
  {
   "cell_type": "code",
   "execution_count": 503,
   "metadata": {
    "scrolled": true
   },
   "outputs": [],
   "source": [
    "case4_train = train.copy()\n",
    "case4_train.update(pd.DataFrame(case4_train_numerical))\n",
    "case4_train_y = train['life_post_consumer'] - train['life_post_consumer'].mean()"
   ]
  },
  {
   "cell_type": "code",
   "execution_count": 504,
   "metadata": {},
   "outputs": [],
   "source": [
    "case4_train = case4_train.loc[:,case4_train.columns != 'life_post_consumer']"
   ]
  },
  {
   "cell_type": "code",
   "execution_count": 505,
   "metadata": {},
   "outputs": [],
   "source": [
    "case4_label = testlabel"
   ]
  },
  {
   "cell_type": "code",
   "execution_count": 506,
   "metadata": {},
   "outputs": [],
   "source": [
    "#test data also have to be standardized based on train features"
   ]
  },
  {
   "cell_type": "code",
   "execution_count": 507,
   "metadata": {},
   "outputs": [],
   "source": [
    "#get all numerical columns\n",
    "test_numerical = test[test.columns[0:8]]"
   ]
  },
  {
   "cell_type": "code",
   "execution_count": 508,
   "metadata": {
    "scrolled": false
   },
   "outputs": [],
   "source": [
    "#Paid is binary\n",
    "test_numerical = test_numerical.loc[:,test_numerical.columns !='Paid']"
   ]
  },
  {
   "cell_type": "code",
   "execution_count": 509,
   "metadata": {},
   "outputs": [],
   "source": [
    "case4_test_numerical = case4_scaler.transform(test_numerical.loc[:,test_numerical.columns !='life_post_consumer'])"
   ]
  },
  {
   "cell_type": "code",
   "execution_count": 510,
   "metadata": {},
   "outputs": [],
   "source": [
    "# turns back into a dataframe and add back column headers \n",
    "case4_test_numerical = pd.DataFrame(case4_test_numerical, columns = test_numerical.loc[:,test_numerical.columns !='life_post_consumer'].columns)"
   ]
  },
  {
   "cell_type": "code",
   "execution_count": 511,
   "metadata": {
    "scrolled": true
   },
   "outputs": [],
   "source": [
    "case4_test = test.copy()\n",
    "case4_test.update(pd.DataFrame(case4_test_numerical))"
   ]
  },
  {
   "cell_type": "code",
   "execution_count": 512,
   "metadata": {},
   "outputs": [
    {
     "data": {
      "text/html": [
       "<div>\n",
       "<style scoped>\n",
       "    .dataframe tbody tr th:only-of-type {\n",
       "        vertical-align: middle;\n",
       "    }\n",
       "\n",
       "    .dataframe tbody tr th {\n",
       "        vertical-align: top;\n",
       "    }\n",
       "\n",
       "    .dataframe thead th {\n",
       "        text-align: right;\n",
       "    }\n",
       "</style>\n",
       "<table border=\"1\" class=\"dataframe\">\n",
       "  <thead>\n",
       "    <tr style=\"text-align: right;\">\n",
       "      <th></th>\n",
       "      <th>comp_page_like</th>\n",
       "      <th>Paid</th>\n",
       "      <th>life_post_reach</th>\n",
       "      <th>life_post_impression_liked</th>\n",
       "      <th>life_post_reach_liked</th>\n",
       "      <th>comment</th>\n",
       "      <th>like</th>\n",
       "      <th>share</th>\n",
       "      <th>type_link</th>\n",
       "      <th>type_status</th>\n",
       "      <th>...</th>\n",
       "      <th>hour5</th>\n",
       "      <th>hour6</th>\n",
       "      <th>hour7</th>\n",
       "      <th>hour8</th>\n",
       "      <th>hour9</th>\n",
       "      <th>hour10</th>\n",
       "      <th>hour11</th>\n",
       "      <th>hour12</th>\n",
       "      <th>hour13</th>\n",
       "      <th>hour14</th>\n",
       "    </tr>\n",
       "  </thead>\n",
       "  <tbody>\n",
       "    <tr>\n",
       "      <td>0</td>\n",
       "      <td>0.167369</td>\n",
       "      <td>0</td>\n",
       "      <td>-0.522485</td>\n",
       "      <td>-0.211290</td>\n",
       "      <td>-0.587894</td>\n",
       "      <td>-0.476554</td>\n",
       "      <td>-0.440910</td>\n",
       "      <td>-0.597558</td>\n",
       "      <td>0</td>\n",
       "      <td>0</td>\n",
       "      <td>...</td>\n",
       "      <td>0</td>\n",
       "      <td>0</td>\n",
       "      <td>0</td>\n",
       "      <td>0</td>\n",
       "      <td>0</td>\n",
       "      <td>0</td>\n",
       "      <td>0</td>\n",
       "      <td>0</td>\n",
       "      <td>0</td>\n",
       "      <td>0</td>\n",
       "    </tr>\n",
       "    <tr>\n",
       "      <td>1</td>\n",
       "      <td>0.787796</td>\n",
       "      <td>0</td>\n",
       "      <td>-0.473877</td>\n",
       "      <td>-0.189856</td>\n",
       "      <td>-0.530975</td>\n",
       "      <td>0.635754</td>\n",
       "      <td>-0.214428</td>\n",
       "      <td>0.174232</td>\n",
       "      <td>0</td>\n",
       "      <td>0</td>\n",
       "      <td>...</td>\n",
       "      <td>0</td>\n",
       "      <td>0</td>\n",
       "      <td>0</td>\n",
       "      <td>0</td>\n",
       "      <td>0</td>\n",
       "      <td>0</td>\n",
       "      <td>1</td>\n",
       "      <td>0</td>\n",
       "      <td>0</td>\n",
       "      <td>0</td>\n",
       "    </tr>\n",
       "    <tr>\n",
       "      <td>2</td>\n",
       "      <td>0.868978</td>\n",
       "      <td>1</td>\n",
       "      <td>-0.591308</td>\n",
       "      <td>-0.231953</td>\n",
       "      <td>-0.720178</td>\n",
       "      <td>-0.476554</td>\n",
       "      <td>-0.696218</td>\n",
       "      <td>-0.983453</td>\n",
       "      <td>0</td>\n",
       "      <td>0</td>\n",
       "      <td>...</td>\n",
       "      <td>0</td>\n",
       "      <td>0</td>\n",
       "      <td>0</td>\n",
       "      <td>0</td>\n",
       "      <td>1</td>\n",
       "      <td>0</td>\n",
       "      <td>0</td>\n",
       "      <td>0</td>\n",
       "      <td>0</td>\n",
       "      <td>0</td>\n",
       "    </tr>\n",
       "    <tr>\n",
       "      <td>3</td>\n",
       "      <td>0.922669</td>\n",
       "      <td>1</td>\n",
       "      <td>1.171820</td>\n",
       "      <td>0.069974</td>\n",
       "      <td>0.565771</td>\n",
       "      <td>0.913831</td>\n",
       "      <td>0.996225</td>\n",
       "      <td>1.872169</td>\n",
       "      <td>0</td>\n",
       "      <td>0</td>\n",
       "      <td>...</td>\n",
       "      <td>0</td>\n",
       "      <td>0</td>\n",
       "      <td>0</td>\n",
       "      <td>0</td>\n",
       "      <td>0</td>\n",
       "      <td>0</td>\n",
       "      <td>0</td>\n",
       "      <td>0</td>\n",
       "      <td>0</td>\n",
       "      <td>0</td>\n",
       "    </tr>\n",
       "    <tr>\n",
       "      <td>4</td>\n",
       "      <td>0.658274</td>\n",
       "      <td>0</td>\n",
       "      <td>-0.569183</td>\n",
       "      <td>-0.226095</td>\n",
       "      <td>-0.678675</td>\n",
       "      <td>-0.337516</td>\n",
       "      <td>-0.432674</td>\n",
       "      <td>-0.713327</td>\n",
       "      <td>0</td>\n",
       "      <td>0</td>\n",
       "      <td>...</td>\n",
       "      <td>0</td>\n",
       "      <td>0</td>\n",
       "      <td>0</td>\n",
       "      <td>1</td>\n",
       "      <td>0</td>\n",
       "      <td>0</td>\n",
       "      <td>0</td>\n",
       "      <td>0</td>\n",
       "      <td>0</td>\n",
       "      <td>0</td>\n",
       "    </tr>\n",
       "    <tr>\n",
       "      <td>...</td>\n",
       "      <td>...</td>\n",
       "      <td>...</td>\n",
       "      <td>...</td>\n",
       "      <td>...</td>\n",
       "      <td>...</td>\n",
       "      <td>...</td>\n",
       "      <td>...</td>\n",
       "      <td>...</td>\n",
       "      <td>...</td>\n",
       "      <td>...</td>\n",
       "      <td>...</td>\n",
       "      <td>...</td>\n",
       "      <td>...</td>\n",
       "      <td>...</td>\n",
       "      <td>...</td>\n",
       "      <td>...</td>\n",
       "      <td>...</td>\n",
       "      <td>...</td>\n",
       "      <td>...</td>\n",
       "      <td>...</td>\n",
       "      <td>...</td>\n",
       "    </tr>\n",
       "    <tr>\n",
       "      <td>395</td>\n",
       "      <td>-0.921516</td>\n",
       "      <td>0</td>\n",
       "      <td>-0.442843</td>\n",
       "      <td>-0.194821</td>\n",
       "      <td>-0.490657</td>\n",
       "      <td>-0.407035</td>\n",
       "      <td>-0.436792</td>\n",
       "      <td>0.019874</td>\n",
       "      <td>0</td>\n",
       "      <td>0</td>\n",
       "      <td>...</td>\n",
       "      <td>0</td>\n",
       "      <td>0</td>\n",
       "      <td>0</td>\n",
       "      <td>0</td>\n",
       "      <td>0</td>\n",
       "      <td>1</td>\n",
       "      <td>0</td>\n",
       "      <td>0</td>\n",
       "      <td>0</td>\n",
       "      <td>0</td>\n",
       "    </tr>\n",
       "    <tr>\n",
       "      <td>396</td>\n",
       "      <td>0.199903</td>\n",
       "      <td>0</td>\n",
       "      <td>0.365125</td>\n",
       "      <td>0.034220</td>\n",
       "      <td>0.931529</td>\n",
       "      <td>6.683928</td>\n",
       "      <td>1.235061</td>\n",
       "      <td>0.290000</td>\n",
       "      <td>0</td>\n",
       "      <td>0</td>\n",
       "      <td>...</td>\n",
       "      <td>0</td>\n",
       "      <td>0</td>\n",
       "      <td>0</td>\n",
       "      <td>0</td>\n",
       "      <td>0</td>\n",
       "      <td>0</td>\n",
       "      <td>0</td>\n",
       "      <td>1</td>\n",
       "      <td>0</td>\n",
       "      <td>0</td>\n",
       "    </tr>\n",
       "    <tr>\n",
       "      <td>397</td>\n",
       "      <td>0.217308</td>\n",
       "      <td>0</td>\n",
       "      <td>0.239030</td>\n",
       "      <td>0.122712</td>\n",
       "      <td>1.098070</td>\n",
       "      <td>2.026139</td>\n",
       "      <td>-0.292667</td>\n",
       "      <td>-0.443200</td>\n",
       "      <td>0</td>\n",
       "      <td>1</td>\n",
       "      <td>...</td>\n",
       "      <td>0</td>\n",
       "      <td>0</td>\n",
       "      <td>0</td>\n",
       "      <td>0</td>\n",
       "      <td>0</td>\n",
       "      <td>0</td>\n",
       "      <td>0</td>\n",
       "      <td>0</td>\n",
       "      <td>1</td>\n",
       "      <td>0</td>\n",
       "    </tr>\n",
       "    <tr>\n",
       "      <td>398</td>\n",
       "      <td>0.412637</td>\n",
       "      <td>1</td>\n",
       "      <td>1.316712</td>\n",
       "      <td>0.155817</td>\n",
       "      <td>1.088583</td>\n",
       "      <td>-0.198477</td>\n",
       "      <td>-0.267960</td>\n",
       "      <td>-0.597558</td>\n",
       "      <td>0</td>\n",
       "      <td>0</td>\n",
       "      <td>...</td>\n",
       "      <td>0</td>\n",
       "      <td>0</td>\n",
       "      <td>0</td>\n",
       "      <td>0</td>\n",
       "      <td>0</td>\n",
       "      <td>0</td>\n",
       "      <td>0</td>\n",
       "      <td>0</td>\n",
       "      <td>1</td>\n",
       "      <td>0</td>\n",
       "    </tr>\n",
       "    <tr>\n",
       "      <td>399</td>\n",
       "      <td>-0.315295</td>\n",
       "      <td>0</td>\n",
       "      <td>-0.503835</td>\n",
       "      <td>-0.210276</td>\n",
       "      <td>-0.584732</td>\n",
       "      <td>-0.407035</td>\n",
       "      <td>-0.457382</td>\n",
       "      <td>-0.481790</td>\n",
       "      <td>0</td>\n",
       "      <td>0</td>\n",
       "      <td>...</td>\n",
       "      <td>0</td>\n",
       "      <td>0</td>\n",
       "      <td>0</td>\n",
       "      <td>0</td>\n",
       "      <td>0</td>\n",
       "      <td>0</td>\n",
       "      <td>0</td>\n",
       "      <td>0</td>\n",
       "      <td>1</td>\n",
       "      <td>0</td>\n",
       "    </tr>\n",
       "  </tbody>\n",
       "</table>\n",
       "<p>400 rows × 43 columns</p>\n",
       "</div>"
      ],
      "text/plain": [
       "     comp_page_like  Paid  life_post_reach  life_post_impression_liked  \\\n",
       "0          0.167369     0        -0.522485                   -0.211290   \n",
       "1          0.787796     0        -0.473877                   -0.189856   \n",
       "2          0.868978     1        -0.591308                   -0.231953   \n",
       "3          0.922669     1         1.171820                    0.069974   \n",
       "4          0.658274     0        -0.569183                   -0.226095   \n",
       "..              ...   ...              ...                         ...   \n",
       "395       -0.921516     0        -0.442843                   -0.194821   \n",
       "396        0.199903     0         0.365125                    0.034220   \n",
       "397        0.217308     0         0.239030                    0.122712   \n",
       "398        0.412637     1         1.316712                    0.155817   \n",
       "399       -0.315295     0        -0.503835                   -0.210276   \n",
       "\n",
       "     life_post_reach_liked   comment      like     share  type_link  \\\n",
       "0                -0.587894 -0.476554 -0.440910 -0.597558          0   \n",
       "1                -0.530975  0.635754 -0.214428  0.174232          0   \n",
       "2                -0.720178 -0.476554 -0.696218 -0.983453          0   \n",
       "3                 0.565771  0.913831  0.996225  1.872169          0   \n",
       "4                -0.678675 -0.337516 -0.432674 -0.713327          0   \n",
       "..                     ...       ...       ...       ...        ...   \n",
       "395              -0.490657 -0.407035 -0.436792  0.019874          0   \n",
       "396               0.931529  6.683928  1.235061  0.290000          0   \n",
       "397               1.098070  2.026139 -0.292667 -0.443200          0   \n",
       "398               1.088583 -0.198477 -0.267960 -0.597558          0   \n",
       "399              -0.584732 -0.407035 -0.457382 -0.481790          0   \n",
       "\n",
       "     type_status  ...  hour5  hour6  hour7  hour8  hour9  hour10  hour11  \\\n",
       "0              0  ...      0      0      0      0      0       0       0   \n",
       "1              0  ...      0      0      0      0      0       0       1   \n",
       "2              0  ...      0      0      0      0      1       0       0   \n",
       "3              0  ...      0      0      0      0      0       0       0   \n",
       "4              0  ...      0      0      0      1      0       0       0   \n",
       "..           ...  ...    ...    ...    ...    ...    ...     ...     ...   \n",
       "395            0  ...      0      0      0      0      0       1       0   \n",
       "396            0  ...      0      0      0      0      0       0       0   \n",
       "397            1  ...      0      0      0      0      0       0       0   \n",
       "398            0  ...      0      0      0      0      0       0       0   \n",
       "399            0  ...      0      0      0      0      0       0       0   \n",
       "\n",
       "     hour12  hour13  hour14  \n",
       "0         0       0       0  \n",
       "1         0       0       0  \n",
       "2         0       0       0  \n",
       "3         0       0       0  \n",
       "4         0       0       0  \n",
       "..      ...     ...     ...  \n",
       "395       0       0       0  \n",
       "396       1       0       0  \n",
       "397       0       1       0  \n",
       "398       0       1       0  \n",
       "399       0       1       0  \n",
       "\n",
       "[400 rows x 43 columns]"
      ]
     },
     "execution_count": 512,
     "metadata": {},
     "output_type": "execute_result"
    }
   ],
   "source": [
    "case4_train"
   ]
  },
  {
   "cell_type": "code",
   "execution_count": 513,
   "metadata": {
    "scrolled": true
   },
   "outputs": [],
   "source": [
    "list_of_case4_rmse = []\n",
    "# regularization coefficient tuning\n",
    "def tune_ridge_alpha(alpha):\n",
    "    case4 = Lasso(alpha).fit(case4_train, case4_train_y)\n",
    "    case4_predict = case4.predict(case4_test)\n",
    "    #add back the mean of y train\n",
    "    case4_predict += train['life_post_consumer'].mean()\n",
    "    case4_rmse = sqrt(mean_squared_error(case4_label,case4_predict))\n",
    "    list_of_case4_rmse.append(case4_rmse)\n",
    "    return case4_predict"
   ]
  },
  {
   "cell_type": "code",
   "execution_count": 514,
   "metadata": {},
   "outputs": [
    {
     "name": "stderr",
     "output_type": "stream",
     "text": [
      "C:\\ProgramData\\Anaconda3\\lib\\site-packages\\sklearn\\linear_model\\coordinate_descent.py:475: ConvergenceWarning: Objective did not converge. You might want to increase the number of iterations. Duality gap: 47975917.14863924, tolerance: 32249.892376\n",
      "  positive)\n",
      "C:\\ProgramData\\Anaconda3\\lib\\site-packages\\sklearn\\linear_model\\coordinate_descent.py:475: ConvergenceWarning: Objective did not converge. You might want to increase the number of iterations. Duality gap: 4456630.676012307, tolerance: 32249.892376\n",
      "  positive)\n"
     ]
    }
   ],
   "source": [
    "for alpha in [0.01, 0.1, 1, 5, 10, 20, 50, 100, 500, 1000]:\n",
    "    tune_ridge_alpha(alpha)"
   ]
  },
  {
   "cell_type": "code",
   "execution_count": 515,
   "metadata": {
    "scrolled": true
   },
   "outputs": [
    {
     "data": {
      "text/plain": [
       "[692.0179472084134,\n",
       " 690.2394507507341,\n",
       " 679.4855631220257,\n",
       " 654.3119134751014,\n",
       " 643.3838482161635,\n",
       " 650.1282310013416,\n",
       " 687.570212319791,\n",
       " 800.1430462841631,\n",
       " 928.8095109332162,\n",
       " 928.8095109332162]"
      ]
     },
     "execution_count": 515,
     "metadata": {},
     "output_type": "execute_result"
    }
   ],
   "source": [
    "list_of_case4_rmse"
   ]
  },
  {
   "cell_type": "code",
   "execution_count": 516,
   "metadata": {
    "scrolled": true
   },
   "outputs": [
    {
     "data": {
      "image/png": "[encoded data removed]",
      "text/plain": [
       "<Figure size 432x288 with 1 Axes>"
      ]
     },
     "metadata": {
      "needs_background": "light"
     },
     "output_type": "display_data"
    }
   ],
   "source": [
    "# plot alpha against rmse\n",
    "x = np.arange(10)\n",
    "y = list_of_case4_rmse\n",
    "my_xticks = [0.01, 0.1, 1, 5, 10, 20, 50, 100, 500, 1000]\n",
    "plt.xticks(x, my_xticks)\n",
    "plt.plot(x, y)\n",
    "plt.show()"
   ]
  },
  {
   "cell_type": "code",
   "execution_count": 517,
   "metadata": {},
   "outputs": [
    {
     "data": {
      "text/plain": [
       "643.3838482161635"
      ]
     },
     "execution_count": 517,
     "metadata": {},
     "output_type": "execute_result"
    }
   ],
   "source": [
    "# best test RMSE is on alpha = 10\n",
    "# RMSE is 643.3838482161635 better than case2B : 645\n",
    "min(list_of_case4_rmse)"
   ]
  },
  {
   "cell_type": "code",
   "execution_count": 518,
   "metadata": {},
   "outputs": [],
   "source": [
    "# fit a ridge regression using best alpha\n",
    "case4_predict = tune_ridge_alpha(10)\n",
    "#prediction from best alpha"
   ]
  },
  {
   "cell_type": "code",
   "execution_count": 519,
   "metadata": {},
   "outputs": [
    {
     "data": {
      "text/html": [
       "<div>\n",
       "<style scoped>\n",
       "    .dataframe tbody tr th:only-of-type {\n",
       "        vertical-align: middle;\n",
       "    }\n",
       "\n",
       "    .dataframe tbody tr th {\n",
       "        vertical-align: top;\n",
       "    }\n",
       "\n",
       "    .dataframe thead th {\n",
       "        text-align: right;\n",
       "    }\n",
       "</style>\n",
       "<table border=\"1\" class=\"dataframe\">\n",
       "  <thead>\n",
       "    <tr style=\"text-align: right;\">\n",
       "      <th></th>\n",
       "      <th>predict</th>\n",
       "      <th>label</th>\n",
       "    </tr>\n",
       "  </thead>\n",
       "  <tbody>\n",
       "    <tr>\n",
       "      <td>0</td>\n",
       "      <td>1241.598585</td>\n",
       "      <td>1183</td>\n",
       "    </tr>\n",
       "    <tr>\n",
       "      <td>1</td>\n",
       "      <td>287.888761</td>\n",
       "      <td>189</td>\n",
       "    </tr>\n",
       "    <tr>\n",
       "      <td>2</td>\n",
       "      <td>2119.906747</td>\n",
       "      <td>2327</td>\n",
       "    </tr>\n",
       "    <tr>\n",
       "      <td>3</td>\n",
       "      <td>-16.297183</td>\n",
       "      <td>76</td>\n",
       "    </tr>\n",
       "    <tr>\n",
       "      <td>4</td>\n",
       "      <td>449.101151</td>\n",
       "      <td>354</td>\n",
       "    </tr>\n",
       "    <tr>\n",
       "      <td>5</td>\n",
       "      <td>711.145591</td>\n",
       "      <td>713</td>\n",
       "    </tr>\n",
       "    <tr>\n",
       "      <td>6</td>\n",
       "      <td>398.059174</td>\n",
       "      <td>204</td>\n",
       "    </tr>\n",
       "    <tr>\n",
       "      <td>7</td>\n",
       "      <td>460.151242</td>\n",
       "      <td>288</td>\n",
       "    </tr>\n",
       "    <tr>\n",
       "      <td>8</td>\n",
       "      <td>645.442998</td>\n",
       "      <td>555</td>\n",
       "    </tr>\n",
       "    <tr>\n",
       "      <td>9</td>\n",
       "      <td>591.436454</td>\n",
       "      <td>586</td>\n",
       "    </tr>\n",
       "    <tr>\n",
       "      <td>10</td>\n",
       "      <td>429.966193</td>\n",
       "      <td>446</td>\n",
       "    </tr>\n",
       "    <tr>\n",
       "      <td>11</td>\n",
       "      <td>461.483152</td>\n",
       "      <td>884</td>\n",
       "    </tr>\n",
       "    <tr>\n",
       "      <td>12</td>\n",
       "      <td>899.809288</td>\n",
       "      <td>524</td>\n",
       "    </tr>\n",
       "    <tr>\n",
       "      <td>13</td>\n",
       "      <td>571.866406</td>\n",
       "      <td>672</td>\n",
       "    </tr>\n",
       "    <tr>\n",
       "      <td>14</td>\n",
       "      <td>352.865220</td>\n",
       "      <td>23</td>\n",
       "    </tr>\n",
       "    <tr>\n",
       "      <td>15</td>\n",
       "      <td>548.085325</td>\n",
       "      <td>570</td>\n",
       "    </tr>\n",
       "    <tr>\n",
       "      <td>16</td>\n",
       "      <td>1741.015111</td>\n",
       "      <td>1361</td>\n",
       "    </tr>\n",
       "    <tr>\n",
       "      <td>17</td>\n",
       "      <td>2712.054392</td>\n",
       "      <td>5934</td>\n",
       "    </tr>\n",
       "    <tr>\n",
       "      <td>18</td>\n",
       "      <td>3681.459427</td>\n",
       "      <td>2319</td>\n",
       "    </tr>\n",
       "    <tr>\n",
       "      <td>19</td>\n",
       "      <td>3645.114033</td>\n",
       "      <td>1633</td>\n",
       "    </tr>\n",
       "  </tbody>\n",
       "</table>\n",
       "</div>"
      ],
      "text/plain": [
       "        predict  label\n",
       "0   1241.598585   1183\n",
       "1    287.888761    189\n",
       "2   2119.906747   2327\n",
       "3    -16.297183     76\n",
       "4    449.101151    354\n",
       "5    711.145591    713\n",
       "6    398.059174    204\n",
       "7    460.151242    288\n",
       "8    645.442998    555\n",
       "9    591.436454    586\n",
       "10   429.966193    446\n",
       "11   461.483152    884\n",
       "12   899.809288    524\n",
       "13   571.866406    672\n",
       "14   352.865220     23\n",
       "15   548.085325    570\n",
       "16  1741.015111   1361\n",
       "17  2712.054392   5934\n",
       "18  3681.459427   2319\n",
       "19  3645.114033   1633"
      ]
     },
     "execution_count": 519,
     "metadata": {},
     "output_type": "execute_result"
    }
   ],
   "source": [
    "#top 20 prediction and label from this model\n",
    "pd.DataFrame({'predict': case4_predict[:20], 'label' : case4_label['life_post_consumer'][:20]})"
   ]
  },
  {
   "cell_type": "code",
   "execution_count": null,
   "metadata": {},
   "outputs": [],
   "source": []
  },
  {
   "cell_type": "markdown",
   "metadata": {},
   "source": [
    "# Q10 list all questions' base case RMSE and comment"
   ]
  },
  {
   "cell_type": "markdown",
   "metadata": {},
   "source": [
    "case 1 y mean : 928.8095109332162  \n",
    "case 2A OLS : 692.2891271362014  \n",
    "case 2B OLS with y de-mean : 692.2891271361826  \n",
    "case 2C OLS with all features normalized and y de-mean : 692.2891271372005  \n",
    "## we can see that in the OLS case,normalizing features or de-meaning y doesnt improve model much"
   ]
  },
  {
   "cell_type": "code",
   "execution_count": null,
   "metadata": {},
   "outputs": [],
   "source": []
  },
  {
   "cell_type": "markdown",
   "metadata": {},
   "source": [
    "case 3A Ridge: 660.5612900111673  \n",
    "case 3B Ridge with numerical features normalized and y de-mean:  645.5168123938737  \n",
    "case 3C Ridge with only y de-mean: 660.5612900111671    \n",
    "case 3D Ridge with all features normalized and y de-mean: 588.793465752767   \n",
    "case 4 Lasso with numerical features normalized and y de-mean: 643.3838482161635   \n",
    "\n",
    "## based on case3B and case 4 , we can see Lasso is a better model(with alpha tuned) for this dataset, although only a bit better\n",
    "##  with case 3A and 3C, we see again that de-meaning y doesnt improve model much\n",
    "## with all case 3's, normalizing features help a lot for this dataset, even normalizing binary variable helps\n",
    "## Note that standardizing binary variables does not make any sense, since the binary variable only have value 0 or 1.\n",
    "## I still think we shouldn't normalizing binary variables, and only standardize numerical ones. With de-meaning y as an option, we can still do it, but the result hardly improves.\n"
   ]
  }
 ],
 "metadata": {
  "kernelspec": {
   "display_name": "Python 3",
   "language": "python",
   "name": "python3"
  },
  "language_info": {
   "codemirror_mode": {
    "name": "ipython",
    "version": 3
   },
   "file_extension": ".py",
   "mimetype": "text/x-python",
   "name": "python",
   "nbconvert_exporter": "python",
   "pygments_lexer": "ipython3",
   "version": "3.7.4"
  }
 },
 "nbformat": 4,
 "nbformat_minor": 2
}
